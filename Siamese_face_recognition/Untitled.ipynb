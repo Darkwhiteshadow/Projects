{
 "cells": [
  {
   "cell_type": "code",
   "execution_count": 5,
   "id": "b9078a8d-46da-43b8-b508-b747f42822ac",
   "metadata": {},
   "outputs": [],
   "source": [
    "import matplotlib.pyplot as plt\n",
    "import os\n",
    "import tensorflow as tf\n"
   ]
  },
  {
   "cell_type": "code",
   "execution_count": 6,
   "id": "b40333ac-43be-431e-98ce-42821a2a62e3",
   "metadata": {},
   "outputs": [
    {
     "name": "stderr",
     "output_type": "stream",
     "text": [
      "2024-06-12 15:17:46.523568: I external/local_xla/xla/stream_executor/cuda/cuda_executor.cc:901] successful NUMA node read from SysFS had negative value (-1), but there must be at least one NUMA node, so returning NUMA node zero. See more at https://github.com/torvalds/linux/blob/v6.0/Documentation/ABI/testing/sysfs-bus-pci#L344-L355\n",
      "2024-06-12 15:17:47.334236: I external/local_xla/xla/stream_executor/cuda/cuda_executor.cc:901] successful NUMA node read from SysFS had negative value (-1), but there must be at least one NUMA node, so returning NUMA node zero. See more at https://github.com/torvalds/linux/blob/v6.0/Documentation/ABI/testing/sysfs-bus-pci#L344-L355\n",
      "2024-06-12 15:17:47.334408: I external/local_xla/xla/stream_executor/cuda/cuda_executor.cc:901] successful NUMA node read from SysFS had negative value (-1), but there must be at least one NUMA node, so returning NUMA node zero. See more at https://github.com/torvalds/linux/blob/v6.0/Documentation/ABI/testing/sysfs-bus-pci#L344-L355\n"
     ]
    }
   ],
   "source": [
    "gpus = tf.config.experimental.list_physical_devices('GPU')"
   ]
  },
  {
   "cell_type": "code",
   "execution_count": 7,
   "id": "d192165f-a33e-4fd8-bc16-0239d41c654a",
   "metadata": {},
   "outputs": [
    {
     "data": {
      "text/plain": [
       "[PhysicalDevice(name='/physical_device:GPU:0', device_type='GPU')]"
      ]
     },
     "execution_count": 7,
     "metadata": {},
     "output_type": "execute_result"
    }
   ],
   "source": [
    "gpus"
   ]
  },
  {
   "cell_type": "code",
   "execution_count": 8,
   "id": "6657404c-a7ce-4374-b754-c68a4a443ab0",
   "metadata": {},
   "outputs": [],
   "source": [
    "for gpu in gpus:\n",
    "    tf.config.experimental.set_memory_growth(gpu,True)"
   ]
  },
  {
   "cell_type": "code",
   "execution_count": 9,
   "id": "9b74ce04-44b5-4108-a6d7-0e366708717c",
   "metadata": {},
   "outputs": [
    {
     "data": {
      "text/plain": [
       "526"
      ]
     },
     "execution_count": 9,
     "metadata": {},
     "output_type": "execute_result"
    }
   ],
   "source": [
    "pp = 'data/positive'\n",
    "len(os.listdir(pp))"
   ]
  },
  {
   "cell_type": "code",
   "execution_count": 10,
   "id": "d47af027-27a1-4e47-905e-033bd10de9cd",
   "metadata": {},
   "outputs": [
    {
     "data": {
      "text/plain": [
       "13233"
      ]
     },
     "execution_count": 10,
     "metadata": {},
     "output_type": "execute_result"
    }
   ],
   "source": [
    "np = 'data/negative'\n",
    "len(os.listdir(np))"
   ]
  },
  {
   "cell_type": "code",
   "execution_count": 11,
   "id": "7adafc89-5b55-49f5-85f4-8f4cf07dca23",
   "metadata": {},
   "outputs": [
    {
     "data": {
      "text/plain": [
       "385"
      ]
     },
     "execution_count": 11,
     "metadata": {},
     "output_type": "execute_result"
    }
   ],
   "source": [
    "ap = 'data/anchor'\n",
    "len(os.listdir(ap))"
   ]
  },
  {
   "cell_type": "code",
   "execution_count": 12,
   "id": "74b70bc7-0db6-4a0b-84dc-bdb3854674c6",
   "metadata": {},
   "outputs": [
    {
     "name": "stderr",
     "output_type": "stream",
     "text": [
      "2024-06-12 15:17:47.415342: I external/local_xla/xla/stream_executor/cuda/cuda_executor.cc:901] successful NUMA node read from SysFS had negative value (-1), but there must be at least one NUMA node, so returning NUMA node zero. See more at https://github.com/torvalds/linux/blob/v6.0/Documentation/ABI/testing/sysfs-bus-pci#L344-L355\n",
      "2024-06-12 15:17:47.415708: I external/local_xla/xla/stream_executor/cuda/cuda_executor.cc:901] successful NUMA node read from SysFS had negative value (-1), but there must be at least one NUMA node, so returning NUMA node zero. See more at https://github.com/torvalds/linux/blob/v6.0/Documentation/ABI/testing/sysfs-bus-pci#L344-L355\n",
      "2024-06-12 15:17:47.415863: I external/local_xla/xla/stream_executor/cuda/cuda_executor.cc:901] successful NUMA node read from SysFS had negative value (-1), but there must be at least one NUMA node, so returning NUMA node zero. See more at https://github.com/torvalds/linux/blob/v6.0/Documentation/ABI/testing/sysfs-bus-pci#L344-L355\n",
      "2024-06-12 15:17:47.492574: I external/local_xla/xla/stream_executor/cuda/cuda_executor.cc:901] successful NUMA node read from SysFS had negative value (-1), but there must be at least one NUMA node, so returning NUMA node zero. See more at https://github.com/torvalds/linux/blob/v6.0/Documentation/ABI/testing/sysfs-bus-pci#L344-L355\n",
      "2024-06-12 15:17:47.492721: I external/local_xla/xla/stream_executor/cuda/cuda_executor.cc:901] successful NUMA node read from SysFS had negative value (-1), but there must be at least one NUMA node, so returning NUMA node zero. See more at https://github.com/torvalds/linux/blob/v6.0/Documentation/ABI/testing/sysfs-bus-pci#L344-L355\n",
      "2024-06-12 15:17:47.492835: I external/local_xla/xla/stream_executor/cuda/cuda_executor.cc:901] successful NUMA node read from SysFS had negative value (-1), but there must be at least one NUMA node, so returning NUMA node zero. See more at https://github.com/torvalds/linux/blob/v6.0/Documentation/ABI/testing/sysfs-bus-pci#L344-L355\n",
      "2024-06-12 15:17:47.492912: I tensorflow/core/common_runtime/gpu/gpu_device.cc:1929] Created device /job:localhost/replica:0/task:0/device:GPU:0 with 2403 MB memory:  -> device: 0, name: NVIDIA GeForce GTX 1650, pci bus id: 0000:01:00.0, compute capability: 7.5\n",
      "2024-06-12 15:17:47.999438: I external/local_tsl/tsl/platform/default/subprocess.cc:304] Start cannot spawn child process: No such file or directory\n"
     ]
    }
   ],
   "source": [
    "anchors = tf.data.Dataset.list_files(ap+'/*.jpg').take(350)\n",
    "positives = tf.data.Dataset.list_files(pp+'/*.jpg').take(350)\n",
    "negatives=tf.data.Dataset.list_files(np+'/*.jpg').take(350)"
   ]
  },
  {
   "cell_type": "code",
   "execution_count": 13,
   "id": "cf30e232-4070-4819-9a0a-361d0dabaf91",
   "metadata": {},
   "outputs": [],
   "source": [
    "positivelabels = tf.data.Dataset.zip((anchors,positives,tf.data.Dataset.from_tensor_slices(tf.ones(350))))\n",
    "negativelabels = tf.data.Dataset.zip((anchors,negatives,tf.data.Dataset.from_tensor_slices(tf.ones(350))))"
   ]
  },
  {
   "cell_type": "code",
   "execution_count": 14,
   "id": "68671f04-e997-45e8-b190-105c7b784f0d",
   "metadata": {},
   "outputs": [],
   "source": [
    "Dataset = positivelabels.concatenate(negativelabels)\n"
   ]
  },
  {
   "cell_type": "code",
   "execution_count": 15,
   "id": "f0dff7ca-2ff5-4c36-9c2c-02d25b5b4bda",
   "metadata": {},
   "outputs": [],
   "source": [
    "example = Dataset.as_numpy_iterator()\n"
   ]
  },
  {
   "cell_type": "code",
   "execution_count": 16,
   "id": "778cca91-6018-4acc-89d1-07cdcbec2532",
   "metadata": {},
   "outputs": [],
   "source": [
    "def preprocess(path):\n",
    "    img = tf.io.read_file(path)\n",
    "    img = tf.io.decode_jpeg(img)\n",
    "    img = tf.image.resize(img,(105,105))\n",
    "    img = img/255\n",
    "    return img"
   ]
  },
  {
   "cell_type": "code",
   "execution_count": 17,
   "id": "2cb92b4b-1c0d-47eb-b0ff-58dca5d424e9",
   "metadata": {},
   "outputs": [
    {
     "data": {
      "text/plain": [
       "<matplotlib.image.AxesImage at 0x751c777c3820>"
      ]
     },
     "execution_count": 17,
     "metadata": {},
     "output_type": "execute_result"
    },
    {
     "data": {
      "image/png": "[encoded data removed]",
      "text/plain": [
       "<Figure size 640x480 with 1 Axes>"
      ]
     },
     "metadata": {},
     "output_type": "display_data"
    }
   ],
   "source": [
    "img,_,_ = example.next()\n",
    "plt.imshow(preprocess(img))"
   ]
  },
  {
   "cell_type": "code",
   "execution_count": 18,
   "id": "5340a1a4-f114-42e8-a473-0ef05aee5625",
   "metadata": {},
   "outputs": [],
   "source": [
    "def preprocess_label(img,img2,label):\n",
    "    return(preprocess(img),preprocess(img2),label)"
   ]
  },
  {
   "cell_type": "code",
   "execution_count": 19,
   "id": "3ac3bd78-1233-4dd4-9638-476580c2fd92",
   "metadata": {},
   "outputs": [],
   "source": [
    "Dataset = Dataset.map(preprocess_label)"
   ]
  },
  {
   "cell_type": "code",
   "execution_count": 20,
   "id": "704c0960-f4b3-4294-aaf4-6eea099a70a7",
   "metadata": {},
   "outputs": [],
   "source": [
    "Dataset= Dataset.cache()\n"
   ]
  },
  {
   "cell_type": "code",
   "execution_count": 21,
   "id": "9ed2eb81-957d-4a4b-b94c-b8d248e7bb90",
   "metadata": {},
   "outputs": [],
   "source": [
    "Dataset=Dataset.shuffle(buffer_size=1024)"
   ]
  },
  {
   "cell_type": "code",
   "execution_count": 22,
   "id": "78fa776c-1f38-4bfc-8f89-a19f8cbdada6",
   "metadata": {},
   "outputs": [],
   "source": [
    "train_data = Dataset.take(round(350*.7))\n",
    "train_data = train_data.batch(16)\n",
    "train_data = train_data.prefetch(8)"
   ]
  },
  {
   "cell_type": "code",
   "execution_count": 23,
   "id": "afd0229a-7ffe-47da-a48e-e80a76e240cc",
   "metadata": {},
   "outputs": [],
   "source": [
    "test_data  = Dataset.skip(round(350*.7))\n",
    "test_data  = test_data.take(round(350*.3))\n",
    "test_data = test_data.batch(16)\n",
    "test_data = test_data.prefetch(8)"
   ]
  },
  {
   "cell_type": "code",
   "execution_count": 24,
   "id": "56150457-f723-4b94-8688-39c3d80c7794",
   "metadata": {},
   "outputs": [
    {
     "data": {
      "text/plain": [
       "700"
      ]
     },
     "execution_count": 24,
     "metadata": {},
     "output_type": "execute_result"
    }
   ],
   "source": [
    "len(Dataset)"
   ]
  },
  {
   "cell_type": "markdown",
   "id": "3f0a1d27-2e24-456b-8a77-924c8c378d88",
   "metadata": {},
   "source": [
    "# Seasme"
   ]
  },
  {
   "cell_type": "code",
   "execution_count": 25,
   "id": "37cf4baf-09d7-4685-abef-5927adb807a4",
   "metadata": {},
   "outputs": [],
   "source": [
    "from tensorflow.keras.models import Model\n",
    "from tensorflow.keras.layers import Layer,Conv2D,MaxPooling2D,Input,Flatten,Dense"
   ]
  },
  {
   "cell_type": "code",
   "execution_count": 26,
   "id": "606a2ba3-8ab1-4c98-8ecd-6062f9308c67",
   "metadata": {},
   "outputs": [],
   "source": [
    "def net():\n",
    "    #input layer\n",
    "    inp = Input(shape=(105,105,3),name='input_layer')\n",
    "    #first block\n",
    "    L1  = Conv2D(64,(10,10),activation='relu')(inp)\n",
    "    L2  = MaxPooling2D(64,(2,2),padding='same')(L1)\n",
    "\n",
    "    #second block\n",
    "    L3 = Conv2D(128,(7,7),activation='relu')(L2)\n",
    "    L4 = MaxPooling2D(64,(2,2),padding='same')(L3)\n",
    "\n",
    "    #third block\n",
    "    L5 = Conv2D(128,(4,4),activation='relu')(L4)\n",
    "    L6 = MaxPooling2D(64,(2,2),padding='same')(L5)\n",
    "    # fourth block\n",
    "    L7 = Conv2D(256,(4,4),activation='relu')(L6)\n",
    "    f1 = Flatten()(L7)\n",
    "    d1 = Dense(4096,activation='sigmoid')(f1)\n",
    "\n",
    "    return Model(inputs=[inp],outputs=[d1],name='Net')\n",
    "    "
   ]
  },
  {
   "cell_type": "code",
   "execution_count": 27,
   "id": "926fe994-e0b6-4466-a3e7-1504e6dda195",
   "metadata": {},
   "outputs": [],
   "source": [
    "nnet =net()\n"
   ]
  },
  {
   "cell_type": "code",
   "execution_count": 28,
   "id": "dff55f9a-541c-48b4-85e3-769c4da6e8f2",
   "metadata": {},
   "outputs": [],
   "source": [
    "def make_siamese():\n",
    "    \n",
    "    img = Input(shape=(105,105,3),name=\"img\")\n",
    "    check= Input(shape=(105,105,3),name='check')\n",
    "\n",
    "    img_embd = nnet(img)\n",
    "    check_embd = nnet(check)\n",
    "    distance = tf.math.abs(img_embd-check_embd)\n",
    "\n",
    "    classifier = Dense(1,activation='sigmoid')(distance)\n",
    "\n",
    "    return Model(inputs=[img,check],outputs=[classifier],name ='SiameseNet')\n",
    "\n"
   ]
  },
  {
   "cell_type": "code",
   "execution_count": 29,
   "id": "22bc10eb-43b6-4ad6-9cd6-54715820c6fc",
   "metadata": {},
   "outputs": [],
   "source": [
    "siamese = make_siamese()"
   ]
  },
  {
   "cell_type": "code",
   "execution_count": 30,
   "id": "4ce6b5e3-21ec-4142-938b-d32231c160d3",
   "metadata": {},
   "outputs": [],
   "source": [
    "Loss = tf.losses.BinaryCrossentropy()\n",
    "opt = tf.optimizers.Adam(1e-4)"
   ]
  },
  {
   "cell_type": "code",
   "execution_count": 31,
   "id": "e18e4bc9-39ba-4ee2-98e0-e93341da34c9",
   "metadata": {},
   "outputs": [],
   "source": [
    "checkpoint_dir = './training_checkpoints'\n",
    "checkpoint_prefix = os.path.join(checkpoint_dir,'ckpt')\n",
    "checkpoint= tf.train.Checkpoint(opt=opt,siamese_model=siamese)"
   ]
  },
  {
   "cell_type": "code",
   "execution_count": 32,
   "id": "fe85d180-7c4c-40c4-b80d-47bc1cb99785",
   "metadata": {},
   "outputs": [],
   "source": [
    "import numpy as np"
   ]
  },
  {
   "cell_type": "code",
   "execution_count": 33,
   "id": "5d73ada9-3d17-4528-8d7f-8e963d8a313e",
   "metadata": {},
   "outputs": [],
   "source": [
    "@tf.function\n",
    "\n",
    "def step(batch):\n",
    "\n",
    "   \n",
    "    with tf.GradientTape() as tape:\n",
    "\n",
    "        X= batch[:2]\n",
    "        Y=batch[2]\n",
    "        \n",
    "        yhat = siamese(X,training=True)\n",
    "        loss = Loss(Y,yhat)\n",
    "\n",
    "    grad = tape.gradient(loss, siamese.trainable_variables)\n",
    "\n",
    "    opt.apply_gradients(zip(grad,siamese.trainable_variables))\n",
    "\n",
    "    return loss"
   ]
  },
  {
   "cell_type": "code",
   "execution_count": 34,
   "id": "310e5397-d453-470d-97ac-d06ff50352c8",
   "metadata": {},
   "outputs": [],
   "source": [
    "def train(data,Epoche):\n",
    "\n",
    "    for epoch in range(1,Epoche+1):\n",
    "        progbar = tf.keras.utils.Progbar(len(data))\n",
    "        print(\"\\nEpoche completed{}/{}\".format(epoch,Epoche))\n",
    "        for idx,batch in enumerate(data):\n",
    "            print(len(batch))\n",
    "            step(batch)\n",
    "            progbar.update(idx+1)\n",
    "\n",
    "        if epoch%10==0:\n",
    "            checkpoint.save(file_prefix=checkpoint_prefix)"
   ]
  },
  {
   "cell_type": "code",
   "execution_count": 35,
   "id": "982209c7-9270-4686-aec8-67647b74f8dc",
   "metadata": {},
   "outputs": [
    {
     "name": "stdout",
     "output_type": "stream",
     "text": [
      "\n",
      "Epoche completed1/20\n",
      "3\n"
     ]
    },
    {
     "name": "stderr",
     "output_type": "stream",
     "text": [
      "2024-06-12 15:17:50.299168: I external/local_xla/xla/stream_executor/cuda/cuda_dnn.cc:454] Loaded cuDNN version 8904\n",
      "2024-06-12 15:17:50.805233: I external/local_tsl/tsl/platform/default/subprocess.cc:304] Start cannot spawn child process: No such file or directory\n",
      "2024-06-12 15:17:54.608854: I external/local_xla/xla/service/service.cc:168] XLA service 0x751a71fb7f00 initialized for platform CUDA (this does not guarantee that XLA will be used). Devices:\n",
      "2024-06-12 15:17:54.608873: I external/local_xla/xla/service/service.cc:176]   StreamExecutor device (0): NVIDIA GeForce GTX 1650, Compute Capability 7.5\n",
      "2024-06-12 15:17:54.642082: I tensorflow/compiler/mlir/tensorflow/utils/dump_mlir_util.cc:269] disabling MLIR crash reproducer, set env var `MLIR_CRASH_REPRODUCER_DIRECTORY` to enable.\n",
      "WARNING: All log messages before absl::InitializeLog() is called are written to STDERR\n",
      "I0000 00:00:1718185674.744623   14983 device_compiler.h:186] Compiled cluster using XLA!  This line is logged at most once for the lifetime of the process.\n"
     ]
    },
    {
     "name": "stdout",
     "output_type": "stream",
     "text": [
      " 1/16 [>.............................] - ETA: 2:013\n",
      "3\n",
      " 3/16 [====>.........................] - ETA: 2s  3\n",
      " 4/16 [======>.......................] - ETA: 3s3\n",
      " 5/16 [========>.....................] - ETA: 3s3\n",
      " 6/16 [==========>...................] - ETA: 3s3\n",
      " 7/16 [============>.................] - ETA: 3s3\n",
      " 8/16 [==============>...............] - ETA: 2s3\n",
      " 9/16 [===============>..............] - ETA: 2s3\n",
      "10/16 [=================>............] - ETA: 2s3\n",
      "11/16 [===================>..........] - ETA: 1s3\n",
      "12/16 [=====================>........] - ETA: 1s3\n",
      "13/16 [=======================>......] - ETA: 1s3\n",
      "14/16 [=========================>....] - ETA: 0s3\n",
      "15/16 [===========================>..] - ETA: 0s3\n",
      "16/16 [==============================] - 16s 514ms/step\n",
      "\n",
      "Epoche completed2/20\n",
      "3\n",
      " 1/16 [>.............................] - ETA: 0s3\n",
      " 2/16 [==>...........................] - ETA: 5s3\n",
      " 3/16 [====>.........................] - ETA: 5s3\n",
      " 4/16 [======>.......................] - ETA: 4s3\n",
      " 5/16 [========>.....................] - ETA: 4s3\n",
      " 6/16 [==========>...................] - ETA: 4s3\n",
      " 7/16 [============>.................] - ETA: 3s3\n",
      " 8/16 [==============>...............] - ETA: 3s3\n",
      " 9/16 [===============>..............] - ETA: 2s3\n",
      "10/16 [=================>............] - ETA: 2s3\n",
      "11/16 [===================>..........] - ETA: 2s3\n",
      "12/16 [=====================>........] - ETA: 1s3\n",
      "13/16 [=======================>......] - ETA: 1s3\n",
      "14/16 [=========================>....] - ETA: 0s3\n",
      "15/16 [===========================>..] - ETA: 0s3\n",
      "16/16 [==============================] - 7s 436ms/step\n",
      "\n",
      "Epoche completed3/20\n",
      "3\n",
      " 1/16 [>.............................] - ETA: 2s3\n",
      " 2/16 [==>...........................] - ETA: 5s3\n",
      " 3/16 [====>.........................] - ETA: 5s3\n",
      " 4/16 [======>.......................] - ETA: 4s3\n",
      " 5/16 [========>.....................] - ETA: 4s3\n",
      " 6/16 [==========>...................] - ETA: 4s3\n",
      " 7/16 [============>.................] - ETA: 3s3\n",
      " 8/16 [==============>...............] - ETA: 3s3\n",
      " 9/16 [===============>..............] - ETA: 2s3\n",
      "10/16 [=================>............] - ETA: 2s3\n",
      "11/16 [===================>..........] - ETA: 2s3\n",
      "12/16 [=====================>........] - ETA: 1s3\n",
      "13/16 [=======================>......] - ETA: 1s3\n",
      "14/16 [=========================>....] - ETA: 0s3\n",
      "15/16 [===========================>..] - ETA: 0s3\n",
      "16/16 [==============================] - 6s 403ms/step\n",
      "\n",
      "Epoche completed4/20\n",
      "3\n",
      " 1/16 [>.............................] - ETA: 2s3\n",
      " 2/16 [==>...........................] - ETA: 5s3\n",
      " 3/16 [====>.........................] - ETA: 5s3\n",
      " 4/16 [======>.......................] - ETA: 4s3\n",
      " 5/16 [========>.....................] - ETA: 4s3\n",
      " 6/16 [==========>...................] - ETA: 4s3\n",
      " 7/16 [============>.................] - ETA: 3s3\n",
      " 8/16 [==============>...............] - ETA: 3s3\n",
      " 9/16 [===============>..............] - ETA: 2s3\n",
      "10/16 [=================>............] - ETA: 2s3\n",
      "11/16 [===================>..........] - ETA: 2s3\n",
      "12/16 [=====================>........] - ETA: 1s3\n",
      "13/16 [=======================>......] - ETA: 1s3\n",
      "14/16 [=========================>....] - ETA: 0s3\n",
      "15/16 [===========================>..] - ETA: 0s3\n",
      "16/16 [==============================] - 6s 406ms/step\n",
      "\n",
      "Epoche completed5/20\n",
      "3\n",
      " 1/16 [>.............................] - ETA: 2s3\n",
      " 2/16 [==>...........................] - ETA: 5s3\n",
      " 3/16 [====>.........................] - ETA: 5s3\n",
      " 4/16 [======>.......................] - ETA: 5s3\n",
      " 5/16 [========>.....................] - ETA: 4s3\n",
      " 6/16 [==========>...................] - ETA: 4s3\n",
      " 7/16 [============>.................] - ETA: 3s3\n",
      " 8/16 [==============>...............] - ETA: 3s3\n",
      " 9/16 [===============>..............] - ETA: 2s3\n",
      "10/16 [=================>............] - ETA: 2s3\n",
      "11/16 [===================>..........] - ETA: 2s3\n",
      "12/16 [=====================>........] - ETA: 1s3\n",
      "13/16 [=======================>......] - ETA: 1s3\n",
      "14/16 [=========================>....] - ETA: 0s3\n",
      "15/16 [===========================>..] - ETA: 0s3\n",
      "16/16 [==============================] - 6s 422ms/step\n",
      "\n",
      "Epoche completed6/20\n",
      "3\n",
      " 1/16 [>.............................] - ETA: 2s3\n",
      " 2/16 [==>...........................] - ETA: 5s3\n",
      " 3/16 [====>.........................] - ETA: 5s3\n",
      " 4/16 [======>.......................] - ETA: 4s3\n",
      " 5/16 [========>.....................] - ETA: 4s3\n",
      " 6/16 [==========>...................] - ETA: 4s3\n",
      " 7/16 [============>.................] - ETA: 3s3\n",
      " 8/16 [==============>...............] - ETA: 3s3\n",
      " 9/16 [===============>..............] - ETA: 2s3\n",
      "10/16 [=================>............] - ETA: 2s3\n",
      "11/16 [===================>..........] - ETA: 2s3\n",
      "12/16 [=====================>........] - ETA: 1s3\n",
      "13/16 [=======================>......] - ETA: 1s3\n",
      "14/16 [=========================>....] - ETA: 0s3\n",
      "15/16 [===========================>..] - ETA: 0s3\n",
      "16/16 [==============================] - 6s 410ms/step\n",
      "\n",
      "Epoche completed7/20\n",
      "3\n",
      " 1/16 [>.............................] - ETA: 2s3\n",
      " 2/16 [==>...........................] - ETA: 5s3\n",
      " 3/16 [====>.........................] - ETA: 5s3\n",
      " 4/16 [======>.......................] - ETA: 4s3\n",
      " 5/16 [========>.....................] - ETA: 4s3\n",
      " 6/16 [==========>...................] - ETA: 3s3\n",
      " 7/16 [============>.................] - ETA: 3s3\n",
      " 8/16 [==============>...............] - ETA: 3s3\n",
      " 9/16 [===============>..............] - ETA: 2s3\n",
      "10/16 [=================>............] - ETA: 2s3\n",
      "11/16 [===================>..........] - ETA: 1s3\n",
      "12/16 [=====================>........] - ETA: 1s3\n",
      "13/16 [=======================>......] - ETA: 1s3\n",
      "14/16 [=========================>....] - ETA: 0s3\n",
      "15/16 [===========================>..] - ETA: 0s3\n",
      "16/16 [==============================] - 6s 395ms/step\n",
      "\n",
      "Epoche completed8/20\n",
      "3\n",
      " 1/16 [>.............................] - ETA: 2s3\n",
      " 2/16 [==>...........................] - ETA: 5s3\n",
      " 3/16 [====>.........................] - ETA: 5s3\n",
      " 4/16 [======>.......................] - ETA: 4s3\n",
      " 5/16 [========>.....................] - ETA: 4s3\n",
      " 6/16 [==========>...................] - ETA: 3s3\n",
      " 7/16 [============>.................] - ETA: 3s3\n",
      " 8/16 [==============>...............] - ETA: 3s3\n",
      " 9/16 [===============>..............] - ETA: 2s3\n",
      "10/16 [=================>............] - ETA: 2s3\n",
      "11/16 [===================>..........] - ETA: 1s3\n",
      "12/16 [=====================>........] - ETA: 1s3\n",
      "13/16 [=======================>......] - ETA: 1s3\n",
      "14/16 [=========================>....] - ETA: 0s3\n",
      "15/16 [===========================>..] - ETA: 0s3\n",
      "16/16 [==============================] - 6s 396ms/step\n",
      "\n",
      "Epoche completed9/20\n",
      "3\n",
      " 1/16 [>.............................] - ETA: 2s3\n",
      " 2/16 [==>...........................] - ETA: 6s3\n",
      " 3/16 [====>.........................] - ETA: 5s3\n",
      " 4/16 [======>.......................] - ETA: 5s3\n",
      " 5/16 [========>.....................] - ETA: 4s3\n",
      " 6/16 [==========>...................] - ETA: 4s3\n",
      " 7/16 [============>.................] - ETA: 3s3\n",
      " 8/16 [==============>...............] - ETA: 3s3\n",
      " 9/16 [===============>..............] - ETA: 2s3\n",
      "10/16 [=================>............] - ETA: 2s3\n",
      "11/16 [===================>..........] - ETA: 2s3\n",
      "12/16 [=====================>........] - ETA: 1s3\n",
      "13/16 [=======================>......] - ETA: 1s3\n",
      "14/16 [=========================>....] - ETA: 0s3\n",
      "15/16 [===========================>..] - ETA: 0s3\n",
      "16/16 [==============================] - 6s 413ms/step\n",
      "\n",
      "Epoche completed10/20\n",
      "3\n",
      " 1/16 [>.............................] - ETA: 2s3\n",
      " 2/16 [==>...........................] - ETA: 5s3\n",
      " 3/16 [====>.........................] - ETA: 5s3\n",
      " 4/16 [======>.......................] - ETA: 4s3\n",
      " 5/16 [========>.....................] - ETA: 4s3\n",
      " 6/16 [==========>...................] - ETA: 4s3\n",
      " 7/16 [============>.................] - ETA: 3s3\n",
      " 8/16 [==============>...............] - ETA: 3s3\n",
      " 9/16 [===============>..............] - ETA: 2s3\n",
      "10/16 [=================>............] - ETA: 2s3\n",
      "11/16 [===================>..........] - ETA: 1s3\n",
      "12/16 [=====================>........] - ETA: 1s3\n",
      "13/16 [=======================>......] - ETA: 1s3\n",
      "14/16 [=========================>....] - ETA: 0s3\n",
      "15/16 [===========================>..] - ETA: 0s3\n",
      "16/16 [==============================] - 6s 391ms/step\n"
     ]
    },
    {
     "name": "stderr",
     "output_type": "stream",
     "text": [
      "2024-06-12 15:19:01.586616: W external/local_tsl/tsl/framework/cpu_allocator_impl.cc:83] Allocation of 150994944 exceeds 10% of free system memory.\n",
      "2024-06-12 15:19:01.641637: W external/local_tsl/tsl/framework/cpu_allocator_impl.cc:83] Allocation of 150994944 exceeds 10% of free system memory.\n",
      "2024-06-12 15:19:01.732180: W external/local_tsl/tsl/framework/cpu_allocator_impl.cc:83] Allocation of 150994944 exceeds 10% of free system memory.\n"
     ]
    },
    {
     "name": "stdout",
     "output_type": "stream",
     "text": [
      "\n",
      "Epoche completed11/20\n",
      "3\n",
      " 1/16 [>.............................] - ETA: 0s3\n",
      " 2/16 [==>...........................] - ETA: 5s3\n",
      " 3/16 [====>.........................] - ETA: 4s3\n",
      " 4/16 [======>.......................] - ETA: 4s3\n",
      " 5/16 [========>.....................] - ETA: 4s3\n",
      " 6/16 [==========>...................] - ETA: 3s3\n",
      " 7/16 [============>.................] - ETA: 3s3\n",
      " 8/16 [==============>...............] - ETA: 3s3\n",
      " 9/16 [===============>..............] - ETA: 2s3\n",
      "10/16 [=================>............] - ETA: 2s3\n",
      "11/16 [===================>..........] - ETA: 1s3\n",
      "12/16 [=====================>........] - ETA: 1s3\n",
      "13/16 [=======================>......] - ETA: 1s3\n",
      "14/16 [=========================>....] - ETA: 0s3\n",
      "15/16 [===========================>..] - ETA: 0s3\n",
      "16/16 [==============================] - 6s 382ms/step\n",
      "\n",
      "Epoche completed12/20\n",
      "3\n",
      " 1/16 [>.............................] - ETA: 2s3\n",
      " 2/16 [==>...........................] - ETA: 5s3\n",
      " 3/16 [====>.........................] - ETA: 4s3\n",
      " 4/16 [======>.......................] - ETA: 4s3\n",
      " 5/16 [========>.....................] - ETA: 4s3\n",
      " 6/16 [==========>...................] - ETA: 3s3\n",
      " 7/16 [============>.................] - ETA: 3s3\n",
      " 8/16 [==============>...............] - ETA: 3s3\n",
      " 9/16 [===============>..............] - ETA: 2s3\n",
      "10/16 [=================>............] - ETA: 2s3\n",
      "11/16 [===================>..........] - ETA: 1s3\n",
      "12/16 [=====================>........] - ETA: 1s3\n",
      "13/16 [=======================>......] - ETA: 1s3\n",
      "14/16 [=========================>....] - ETA: 0s3\n",
      "15/16 [===========================>..] - ETA: 0s3\n",
      "16/16 [==============================] - 6s 381ms/step\n",
      "\n",
      "Epoche completed13/20\n",
      "3\n",
      " 1/16 [>.............................] - ETA: 2s3\n",
      " 2/16 [==>...........................] - ETA: 5s3\n",
      " 3/16 [====>.........................] - ETA: 4s3\n",
      " 4/16 [======>.......................] - ETA: 4s3\n",
      " 5/16 [========>.....................] - ETA: 4s3\n",
      " 6/16 [==========>...................] - ETA: 3s3\n",
      " 7/16 [============>.................] - ETA: 3s3\n",
      " 8/16 [==============>...............] - ETA: 3s3\n",
      " 9/16 [===============>..............] - ETA: 2s3\n",
      "10/16 [=================>............] - ETA: 2s3\n",
      "11/16 [===================>..........] - ETA: 1s3\n",
      "12/16 [=====================>........] - ETA: 1s3\n",
      "13/16 [=======================>......] - ETA: 1s3\n",
      "14/16 [=========================>....] - ETA: 0s3\n",
      "15/16 [===========================>..] - ETA: 0s3\n",
      "16/16 [==============================] - 6s 381ms/step\n",
      "\n",
      "Epoche completed14/20\n",
      "3\n",
      " 1/16 [>.............................] - ETA: 2s3\n",
      " 2/16 [==>...........................] - ETA: 5s3\n",
      " 3/16 [====>.........................] - ETA: 4s3\n",
      " 4/16 [======>.......................] - ETA: 4s3\n",
      " 5/16 [========>.....................] - ETA: 4s3\n",
      " 6/16 [==========>...................] - ETA: 3s3\n",
      " 7/16 [============>.................] - ETA: 3s3\n",
      " 8/16 [==============>...............] - ETA: 3s3\n",
      " 9/16 [===============>..............] - ETA: 2s3\n",
      "10/16 [=================>............] - ETA: 2s3\n",
      "11/16 [===================>..........] - ETA: 1s3\n",
      "12/16 [=====================>........] - ETA: 1s3\n",
      "13/16 [=======================>......] - ETA: 1s3\n",
      "14/16 [=========================>....] - ETA: 0s3\n",
      "15/16 [===========================>..] - ETA: 0s3\n",
      "16/16 [==============================] - 6s 379ms/step\n",
      "\n",
      "Epoche completed15/20\n",
      "3\n",
      " 1/16 [>.............................] - ETA: 2s3\n",
      " 2/16 [==>...........................] - ETA: 5s3\n",
      " 3/16 [====>.........................] - ETA: 4s3\n",
      " 4/16 [======>.......................] - ETA: 4s3\n",
      " 5/16 [========>.....................] - ETA: 4s3\n",
      " 6/16 [==========>...................] - ETA: 3s3\n",
      " 7/16 [============>.................] - ETA: 3s3\n",
      " 8/16 [==============>...............] - ETA: 3s3\n",
      " 9/16 [===============>..............] - ETA: 2s3\n",
      "10/16 [=================>............] - ETA: 2s3\n",
      "11/16 [===================>..........] - ETA: 1s3\n",
      "12/16 [=====================>........] - ETA: 1s3\n",
      "13/16 [=======================>......] - ETA: 1s3\n",
      "14/16 [=========================>....] - ETA: 0s3\n",
      "15/16 [===========================>..] - ETA: 0s3\n",
      "16/16 [==============================] - 6s 382ms/step\n",
      "\n",
      "Epoche completed16/20\n",
      "3\n",
      " 1/16 [>.............................] - ETA: 2s3\n",
      " 2/16 [==>...........................] - ETA: 5s3\n",
      " 3/16 [====>.........................] - ETA: 4s3\n",
      " 4/16 [======>.......................] - ETA: 4s3\n",
      " 5/16 [========>.....................] - ETA: 4s3\n",
      " 6/16 [==========>...................] - ETA: 3s3\n",
      " 7/16 [============>.................] - ETA: 3s3\n",
      " 8/16 [==============>...............] - ETA: 3s3\n",
      " 9/16 [===============>..............] - ETA: 2s3\n",
      "10/16 [=================>............] - ETA: 2s3\n",
      "11/16 [===================>..........] - ETA: 1s3\n",
      "12/16 [=====================>........] - ETA: 1s3\n",
      "13/16 [=======================>......] - ETA: 1s3\n",
      "14/16 [=========================>....] - ETA: 0s3\n",
      "15/16 [===========================>..] - ETA: 0s3\n",
      "16/16 [==============================] - 6s 381ms/step\n",
      "\n",
      "Epoche completed17/20\n",
      "3\n",
      " 1/16 [>.............................] - ETA: 2s3\n",
      " 2/16 [==>...........................] - ETA: 5s3\n",
      " 3/16 [====>.........................] - ETA: 4s3\n",
      " 4/16 [======>.......................] - ETA: 4s3\n",
      " 5/16 [========>.....................] - ETA: 4s3\n",
      " 6/16 [==========>...................] - ETA: 3s3\n",
      " 7/16 [============>.................] - ETA: 3s3\n",
      " 8/16 [==============>...............] - ETA: 3s3\n",
      " 9/16 [===============>..............] - ETA: 2s3\n",
      "10/16 [=================>............] - ETA: 2s3\n",
      "11/16 [===================>..........] - ETA: 1s3\n",
      "12/16 [=====================>........] - ETA: 1s3\n",
      "13/16 [=======================>......] - ETA: 1s3\n",
      "14/16 [=========================>....] - ETA: 0s3\n",
      "15/16 [===========================>..] - ETA: 0s3\n",
      "16/16 [==============================] - 6s 384ms/step\n",
      "\n",
      "Epoche completed18/20\n",
      "3\n",
      " 1/16 [>.............................] - ETA: 2s3\n",
      " 2/16 [==>...........................] - ETA: 5s3\n",
      " 3/16 [====>.........................] - ETA: 4s3\n",
      " 4/16 [======>.......................] - ETA: 4s3\n",
      " 5/16 [========>.....................] - ETA: 4s3\n",
      " 6/16 [==========>...................] - ETA: 3s3\n",
      " 7/16 [============>.................] - ETA: 3s3\n",
      " 8/16 [==============>...............] - ETA: 3s3\n",
      " 9/16 [===============>..............] - ETA: 2s3\n",
      "10/16 [=================>............] - ETA: 2s3\n",
      "11/16 [===================>..........] - ETA: 1s3\n",
      "12/16 [=====================>........] - ETA: 1s3\n",
      "13/16 [=======================>......] - ETA: 1s3\n",
      "14/16 [=========================>....] - ETA: 0s3\n",
      "15/16 [===========================>..] - ETA: 0s3\n",
      "16/16 [==============================] - 6s 393ms/step\n",
      "\n",
      "Epoche completed19/20\n",
      "3\n",
      " 1/16 [>.............................] - ETA: 2s3\n",
      " 2/16 [==>...........................] - ETA: 5s3\n",
      " 3/16 [====>.........................] - ETA: 5s3\n",
      " 4/16 [======>.......................] - ETA: 4s3\n",
      " 5/16 [========>.....................] - ETA: 4s3\n",
      " 6/16 [==========>...................] - ETA: 3s3\n",
      " 7/16 [============>.................] - ETA: 3s3\n",
      " 8/16 [==============>...............] - ETA: 3s3\n",
      " 9/16 [===============>..............] - ETA: 2s3\n",
      "10/16 [=================>............] - ETA: 2s3\n",
      "11/16 [===================>..........] - ETA: 2s3\n",
      "12/16 [=====================>........] - ETA: 1s3\n",
      "13/16 [=======================>......] - ETA: 1s3\n",
      "14/16 [=========================>....] - ETA: 0s3\n",
      "15/16 [===========================>..] - ETA: 0s3\n",
      "16/16 [==============================] - 6s 402ms/step\n",
      "\n",
      "Epoche completed20/20\n",
      "3\n",
      " 1/16 [>.............................] - ETA: 2s3\n",
      " 2/16 [==>...........................] - ETA: 5s3\n",
      " 3/16 [====>.........................] - ETA: 4s3\n",
      " 4/16 [======>.......................] - ETA: 4s3\n",
      " 5/16 [========>.....................] - ETA: 4s3\n",
      " 6/16 [==========>...................] - ETA: 3s3\n",
      " 7/16 [============>.................] - ETA: 3s3\n",
      " 8/16 [==============>...............] - ETA: 3s3\n",
      " 9/16 [===============>..............] - ETA: 2s3\n",
      "10/16 [=================>............] - ETA: 2s3\n",
      "11/16 [===================>..........] - ETA: 1s3\n",
      "12/16 [=====================>........] - ETA: 1s3\n",
      "13/16 [=======================>......] - ETA: 1s3\n",
      "14/16 [=========================>....] - ETA: 0s3\n",
      "15/16 [===========================>..] - ETA: 0s3\n",
      "16/16 [==============================] - 6s 378ms/step\n"
     ]
    },
    {
     "name": "stderr",
     "output_type": "stream",
     "text": [
      "2024-06-12 15:20:02.410252: W external/local_tsl/tsl/framework/cpu_allocator_impl.cc:83] Allocation of 150994944 exceeds 10% of free system memory.\n",
      "2024-06-12 15:20:02.465434: W external/local_tsl/tsl/framework/cpu_allocator_impl.cc:83] Allocation of 150994944 exceeds 10% of free system memory.\n"
     ]
    }
   ],
   "source": [
    "train(train_data,20)"
   ]
  },
  {
   "cell_type": "code",
   "execution_count": 39,
   "id": "07a3a191-64db-407a-8324-3c30c753d0bc",
   "metadata": {},
   "outputs": [],
   "source": [
    "siamese.compile(optimizer='adam',loss='binary_crossentropy')"
   ]
  },
  {
   "cell_type": "code",
   "execution_count": 40,
   "id": "942f17f0-8b3d-47de-b15a-0d0871adb0bb",
   "metadata": {},
   "outputs": [
    {
     "name": "stderr",
     "output_type": "stream",
     "text": [
      "/home/itachi/.local/lib/python3.10/site-packages/keras/src/engine/training.py:3103: UserWarning: You are saving your model as an HDF5 file via `model.save()`. This file format is considered legacy. We recommend using instead the native Keras format, e.g. `model.save('my_model.keras')`.\n",
      "  saving_api.save_model(\n"
     ]
    }
   ],
   "source": [
    "siamese.save('MY.h5')"
   ]
  },
  {
   "cell_type": "markdown",
   "id": "879a5903-5e58-43d1-b635-8d64fc714e30",
   "metadata": {},
   "source": [
    "# Testing Model"
   ]
  },
  {
   "cell_type": "code",
   "execution_count": 37,
   "id": "891a90d6-d55a-4756-8faf-9d50d7eaa206",
   "metadata": {},
   "outputs": [],
   "source": [
    "import tensorflow as tf\n"
   ]
  },
  {
   "cell_type": "code",
   "execution_count": 41,
   "id": "4988b71c-82b8-48a1-9a48-bf0ac9643e3f",
   "metadata": {},
   "outputs": [],
   "source": [
    "from tensorflow.keras.models import Model\n",
    "\n",
    "model = tf.keras.models.load_model('MY.h5')"
   ]
  },
  {
   "cell_type": "code",
   "execution_count": 60,
   "id": "884ea8b4-b5ae-435e-829d-058ecffd17c8",
   "metadata": {},
   "outputs": [
    {
     "name": "stdout",
     "output_type": "stream",
     "text": [
      "1/1 [==============================] - 0s 20ms/step\n"
     ]
    }
   ],
   "source": [
    "it = test_data.as_numpy_iterator()\n",
    "\n",
    "img,check,l = it.next()\n",
    "\n",
    "yhat = model.predict([img,check])\n",
    "\n"
   ]
  },
  {
   "cell_type": "code",
   "execution_count": 61,
   "id": "901657f0-0fe2-4c90-8a25-9b82b7cd6164",
   "metadata": {},
   "outputs": [
    {
     "data": {
      "text/plain": [
       "(16,)"
      ]
     },
     "execution_count": 61,
     "metadata": {},
     "output_type": "execute_result"
    }
   ],
   "source": [
    "l.shape"
   ]
  },
  {
   "cell_type": "code",
   "execution_count": 62,
   "id": "2ae3bf56-43ba-467d-8ee9-677be2247f74",
   "metadata": {},
   "outputs": [
    {
     "data": {
      "text/plain": [
       "(16,)"
      ]
     },
     "execution_count": 62,
     "metadata": {},
     "output_type": "execute_result"
    }
   ],
   "source": [
    "yhat = yhat.reshape(-1)\n",
    "\n",
    "yhat.shape\n"
   ]
  },
  {
   "cell_type": "code",
   "execution_count": 63,
   "id": "fd986709-5efb-4d64-9c35-a5a4391799fa",
   "metadata": {
    "scrolled": true
   },
   "outputs": [
    {
     "data": {
      "text/plain": [
       "0.5625"
      ]
     },
     "execution_count": 63,
     "metadata": {},
     "output_type": "execute_result"
    }
   ],
   "source": [
    "from tensorflow.keras.metrics import Precision,Recall,Accuracy\n",
    "\n",
    "accu =  Accuracy()\n",
    "accu.update_state(l,yhat)\n",
    "accu.result().numpy()"
   ]
  },
  {
   "cell_type": "code",
   "execution_count": null,
   "id": "dbb612fd-d2b4-4e0a-aa93-44cb048d5782",
   "metadata": {},
   "outputs": [],
   "source": []
  }
 ],
 "metadata": {
  "kernelspec": {
   "display_name": "Python 3 (ipykernel)",
   "language": "python",
   "name": "python3"
  },
  "language_info": {
   "codemirror_mode": {
    "name": "ipython",
    "version": 3
   },
   "file_extension": ".py",
   "mimetype": "text/x-python",
   "name": "python",
   "nbconvert_exporter": "python",
   "pygments_lexer": "ipython3",
   "version": "3.10.12"
  }
 },
 "nbformat": 4,
 "nbformat_minor": 5
}
