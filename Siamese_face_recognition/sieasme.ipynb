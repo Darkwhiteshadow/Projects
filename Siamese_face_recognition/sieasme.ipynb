{
 "cells": [
  {
   "cell_type": "markdown",
   "metadata": {
    "id": "e1ZtNWSLo8eO"
   },
   "source": [
    "#Dependencies"
   ]
  },
  {
   "cell_type": "code",
   "execution_count": 12,
   "metadata": {
    "colab": {
     "base_uri": "https://localhost:8080/"
    },
    "id": "Hi1JT6rvn-0L",
    "outputId": "be7d193a-2394-4dc3-c504-36a5d28bcc02"
   },
   "outputs": [],
   "source": [
    "# !pip install tensorflow==2.8.1 tensorflow-gpu==2.8.1 opencv-python"
   ]
  },
  {
   "cell_type": "markdown",
   "metadata": {
    "id": "zFTMLT8xpO9J"
   },
   "source": [
    "# Library import"
   ]
  },
  {
   "cell_type": "code",
   "execution_count": 1,
   "metadata": {
    "id": "_ihIHYTjpLiZ"
   },
   "outputs": [],
   "source": [
    "import cv2\n",
    "import os\n",
    "import random\n",
    "import numpy as np\n",
    "import matplotlib.pyplot as plt\n",
    "# from google.colab.patches import cv2_imshow"
   ]
  },
  {
   "cell_type": "code",
   "execution_count": 2,
   "metadata": {
    "id": "bNjafFPKplfP"
   },
   "outputs": [
    {
     "name": "stderr",
     "output_type": "stream",
     "text": [
      "2024-02-03 17:14:47.451977: E external/local_xla/xla/stream_executor/cuda/cuda_dnn.cc:9261] Unable to register cuDNN factory: Attempting to register factory for plugin cuDNN when one has already been registered\n",
      "2024-02-03 17:14:47.452008: E external/local_xla/xla/stream_executor/cuda/cuda_fft.cc:607] Unable to register cuFFT factory: Attempting to register factory for plugin cuFFT when one has already been registered\n",
      "2024-02-03 17:14:47.452911: E external/local_xla/xla/stream_executor/cuda/cuda_blas.cc:1515] Unable to register cuBLAS factory: Attempting to register factory for plugin cuBLAS when one has already been registered\n",
      "2024-02-03 17:14:47.458360: I tensorflow/core/platform/cpu_feature_guard.cc:182] This TensorFlow binary is optimized to use available CPU instructions in performance-critical operations.\n",
      "To enable the following instructions: AVX2 FMA, in other operations, rebuild TensorFlow with the appropriate compiler flags.\n",
      "2024-02-03 17:14:48.220472: W tensorflow/compiler/tf2tensorrt/utils/py_utils.cc:38] TF-TRT Warning: Could not find TensorRT\n"
     ]
    }
   ],
   "source": [
    "from  tensorflow.keras.models import Model\n",
    "from tensorflow.keras.layers import Layer , Conv2D,Dense,MaxPooling2D,Input,Flatten"
   ]
  },
  {
   "cell_type": "code",
   "execution_count": 3,
   "metadata": {
    "id": "-zJmRhRsrour"
   },
   "outputs": [],
   "source": [
    "import tensorflow as tf"
   ]
  },
  {
   "cell_type": "code",
   "execution_count": 4,
   "metadata": {
    "id": "6cQ4ZqqIr1nm"
   },
   "outputs": [],
   "source": [
    "# Model(inputs=[inputimage,verificationimage],outputs=[1,0])\n"
   ]
  },
  {
   "cell_type": "markdown",
   "metadata": {
    "id": "0PrCtBsWsVSs"
   },
   "source": [
    "# Limiting memory use by GPU"
   ]
  },
  {
   "cell_type": "code",
   "execution_count": 5,
   "metadata": {
    "id": "3-34_cH6sBCN"
   },
   "outputs": [
    {
     "name": "stderr",
     "output_type": "stream",
     "text": [
      "2024-02-03 17:14:55.203142: I external/local_xla/xla/stream_executor/cuda/cuda_executor.cc:901] successful NUMA node read from SysFS had negative value (-1), but there must be at least one NUMA node, so returning NUMA node zero. See more at https://github.com/torvalds/linux/blob/v6.0/Documentation/ABI/testing/sysfs-bus-pci#L344-L355\n",
      "2024-02-03 17:14:55.235503: I external/local_xla/xla/stream_executor/cuda/cuda_executor.cc:901] successful NUMA node read from SysFS had negative value (-1), but there must be at least one NUMA node, so returning NUMA node zero. See more at https://github.com/torvalds/linux/blob/v6.0/Documentation/ABI/testing/sysfs-bus-pci#L344-L355\n",
      "2024-02-03 17:14:55.235734: I external/local_xla/xla/stream_executor/cuda/cuda_executor.cc:901] successful NUMA node read from SysFS had negative value (-1), but there must be at least one NUMA node, so returning NUMA node zero. See more at https://github.com/torvalds/linux/blob/v6.0/Documentation/ABI/testing/sysfs-bus-pci#L344-L355\n"
     ]
    }
   ],
   "source": [
    "gpus = tf.config.experimental.list_physical_devices('GPU')\n",
    "for gpu in gpus:\n",
    "    tf.config.experimental.set_memory_growth(gpu,True)"
   ]
  },
  {
   "cell_type": "code",
   "execution_count": null,
   "metadata": {
    "id": "VK8ElZL_shGI"
   },
   "outputs": [
    {
     "ename": "FileExistsError",
     "evalue": "[Errno 17] File exists: 'data'",
     "output_type": "error",
     "traceback": [
      "\u001b[0;31m---------------------------------------------------------------------------\u001b[0m",
      "\u001b[0;31mFileExistsError\u001b[0m                           Traceback (most recent call last)",
      "Cell \u001b[0;32mIn[7], line 1\u001b[0m\n\u001b[0;32m----> 1\u001b[0m \u001b[43mos\u001b[49m\u001b[38;5;241;43m.\u001b[39;49m\u001b[43mmkdir\u001b[49m\u001b[43m(\u001b[49m\u001b[38;5;124;43m'\u001b[39;49m\u001b[38;5;124;43mdata\u001b[39;49m\u001b[38;5;124;43m'\u001b[39;49m\u001b[43m)\u001b[49m\n",
      "\u001b[0;31mFileExistsError\u001b[0m: [Errno 17] File exists: 'data'"
     ]
    }
   ],
   "source": [
    "# os.mkdir('data')"
   ]
  },
  {
   "cell_type": "code",
   "execution_count": 6,
   "metadata": {
    "id": "M9aH1WDIs_pN"
   },
   "outputs": [],
   "source": [
    "pospath  = 'data/positive'\n",
    "negpath  = 'data/negative'\n",
    "ancpath  = 'data/anchor'\n"
   ]
  },
  {
   "cell_type": "code",
   "execution_count": null,
   "metadata": {},
   "outputs": [],
   "source": [
    "\n",
    "# os.mkdir(pospath)\n",
    "# os.mkdir(negpath)\n",
    "# os.mkdir(ancpath)"
   ]
  },
  {
   "cell_type": "code",
   "execution_count": null,
   "metadata": {
    "colab": {
     "base_uri": "https://localhost:8080/"
    },
    "id": "bgaVbGgDt4Fg",
    "outputId": "1fbe56b6-d6de-4bbb-f960-2a4a5726c346"
   },
   "outputs": [
    {
     "name": "stdout",
     "output_type": "stream",
     "text": [
      "--2024-02-03 14:01:10--  http://vis-www.cs.umass.edu/lfw/lfw.tgz\n",
      "Resolving vis-www.cs.umass.edu (vis-www.cs.umass.edu)... 128.119.244.95\n",
      "Connecting to vis-www.cs.umass.edu (vis-www.cs.umass.edu)|128.119.244.95|:80... connected.\n",
      "HTTP request sent, awaiting response... 200 OK\n",
      "Length: 180566744 (172M) [application/x-gzip]\n",
      "Saving to: ‘lfw.tgz’\n",
      "\n",
      "lfw.tgz             100%[===================>] 172.20M  1.34MB/s    in 7m 49s  \n",
      "\n",
      "2024-02-03 14:09:01 (376 KB/s) - ‘lfw.tgz’ saved [180566744/180566744]\n",
      "\n"
     ]
    }
   ],
   "source": [
    "# !wget http://vis-www.cs.umass.edu/lfw/lfw.tgz"
   ]
  },
  {
   "cell_type": "code",
   "execution_count": null,
   "metadata": {
    "id": "S7bnINXoujCa"
   },
   "outputs": [],
   "source": [
    "# !tar -xf lfw.tgz"
   ]
  },
  {
   "cell_type": "code",
   "execution_count": null,
   "metadata": {
    "id": "RlD2y3Ehvg37"
   },
   "outputs": [],
   "source": [
    "# for dir in os.listdir('lfw'):\n",
    "\n",
    "#      for img in os.listdir(os.path.join('lfw',dir)):\n",
    "#           cpath  = os.path.join('lfw',dir,img)\n",
    "#           newpath  = os.path.join(negpath,img)\n",
    "#           os.replace(cpath,newpath)\n"
   ]
  },
  {
   "cell_type": "code",
   "execution_count": null,
   "metadata": {
    "colab": {
     "base_uri": "https://localhost:8080/"
    },
    "id": "p3OTqN_GwS3P",
    "outputId": "a5aef47c-180e-4ce9-f397-7cfc13249af4"
   },
   "outputs": [],
   "source": [
    "# ancpath=os.path.join(os.curdir,ancpath)"
   ]
  },
  {
   "cell_type": "code",
   "execution_count": 7,
   "metadata": {
    "id": "aMKEEUiSxlx6"
   },
   "outputs": [
    {
     "name": "stderr",
     "output_type": "stream",
     "text": [
      "2024-02-03 17:15:05.048481: I external/local_xla/xla/stream_executor/cuda/cuda_executor.cc:901] successful NUMA node read from SysFS had negative value (-1), but there must be at least one NUMA node, so returning NUMA node zero. See more at https://github.com/torvalds/linux/blob/v6.0/Documentation/ABI/testing/sysfs-bus-pci#L344-L355\n",
      "2024-02-03 17:15:05.048786: I external/local_xla/xla/stream_executor/cuda/cuda_executor.cc:901] successful NUMA node read from SysFS had negative value (-1), but there must be at least one NUMA node, so returning NUMA node zero. See more at https://github.com/torvalds/linux/blob/v6.0/Documentation/ABI/testing/sysfs-bus-pci#L344-L355\n",
      "2024-02-03 17:15:05.048918: I external/local_xla/xla/stream_executor/cuda/cuda_executor.cc:901] successful NUMA node read from SysFS had negative value (-1), but there must be at least one NUMA node, so returning NUMA node zero. See more at https://github.com/torvalds/linux/blob/v6.0/Documentation/ABI/testing/sysfs-bus-pci#L344-L355\n",
      "2024-02-03 17:15:05.144659: I external/local_xla/xla/stream_executor/cuda/cuda_executor.cc:901] successful NUMA node read from SysFS had negative value (-1), but there must be at least one NUMA node, so returning NUMA node zero. See more at https://github.com/torvalds/linux/blob/v6.0/Documentation/ABI/testing/sysfs-bus-pci#L344-L355\n",
      "2024-02-03 17:15:05.144937: I external/local_xla/xla/stream_executor/cuda/cuda_executor.cc:901] successful NUMA node read from SysFS had negative value (-1), but there must be at least one NUMA node, so returning NUMA node zero. See more at https://github.com/torvalds/linux/blob/v6.0/Documentation/ABI/testing/sysfs-bus-pci#L344-L355\n",
      "2024-02-03 17:15:05.145108: I external/local_xla/xla/stream_executor/cuda/cuda_executor.cc:901] successful NUMA node read from SysFS had negative value (-1), but there must be at least one NUMA node, so returning NUMA node zero. See more at https://github.com/torvalds/linux/blob/v6.0/Documentation/ABI/testing/sysfs-bus-pci#L344-L355\n",
      "2024-02-03 17:15:05.145239: I tensorflow/core/common_runtime/gpu/gpu_device.cc:1929] Created device /job:localhost/replica:0/task:0/device:GPU:0 with 2795 MB memory:  -> device: 0, name: NVIDIA GeForce GTX 1650, pci bus id: 0000:01:00.0, compute capability: 7.5\n",
      "2024-02-03 17:15:05.310718: I external/local_tsl/tsl/platform/default/subprocess.cc:304] Start cannot spawn child process: No such file or directory\n"
     ]
    }
   ],
   "source": [
    "anchor = tf.data.Dataset.list_files(ancpath + '/*.jpg').take(300)\n",
    "positive= tf.data.Dataset.list_files(pospath+'/*.jpg').take(300)\n",
    "negative = tf.data.Dataset.list_files(negpath+'/*.jpg').take(300)\n"
   ]
  },
  {
   "cell_type": "markdown",
   "metadata": {},
   "source": [
    "# Preprocessing"
   ]
  },
  {
   "cell_type": "code",
   "execution_count": 8,
   "metadata": {},
   "outputs": [],
   "source": [
    "def preprocessing(file_path):\n",
    "\n",
    "    byte_img = tf.io.read_file(file_path)\n",
    "    img = tf.io.decode_jpeg(byte_img)\n",
    "    img = tf.image.resize(img,(100,100))\n",
    "    img = img /255.0\n",
    "    return img\n"
   ]
  },
  {
   "cell_type": "code",
   "execution_count": 9,
   "metadata": {},
   "outputs": [],
   "source": [
    "positives = tf.data.Dataset.zip((anchor,positive,tf.data.Dataset.from_tensor_slices(tf.ones(len(anchor)))))\n",
    "negatives = tf.data.Dataset.zip((anchor,negative,tf.data.Dataset.from_tensor_slices(tf.zeros(len(anchor)))))"
   ]
  },
  {
   "cell_type": "code",
   "execution_count": 10,
   "metadata": {},
   "outputs": [],
   "source": [
    "data = positives.concatenate(negatives)"
   ]
  },
  {
   "cell_type": "code",
   "execution_count": 11,
   "metadata": {},
   "outputs": [],
   "source": [
    "exampl = data.as_numpy_iterator()"
   ]
  },
  {
   "cell_type": "code",
   "execution_count": 12,
   "metadata": {},
   "outputs": [],
   "source": [
    "def preprocessing_twins(inputimg,validimg,label):\n",
    "    return( preprocessing(inputimg),preprocessing(validimg),label)"
   ]
  },
  {
   "cell_type": "markdown",
   "metadata": {},
   "source": [
    "## example for whats happening"
   ]
  },
  {
   "cell_type": "code",
   "execution_count": 13,
   "metadata": {},
   "outputs": [
    {
     "data": {
      "text/plain": [
       "<matplotlib.image.AxesImage at 0x7f51602784f0>"
      ]
     },
     "execution_count": 13,
     "metadata": {},
     "output_type": "execute_result"
    },
    {
     "data": {
      "image/png": "[encoded data removed]",
      "text/plain": [
       "<Figure size 640x480 with 1 Axes>"
      ]
     },
     "metadata": {},
     "output_type": "display_data"
    }
   ],
   "source": [
    "plt.imshow(preprocessing_twins(*exampl.next())[0])"
   ]
  },
  {
   "cell_type": "markdown",
   "metadata": {},
   "source": []
  },
  {
   "cell_type": "code",
   "execution_count": 14,
   "metadata": {},
   "outputs": [],
   "source": [
    "data = data.map(preprocessing_twins)\n",
    "data = data.cache()\n",
    "\n",
    "# shuffling dataset so that we get mixed set of samples\n",
    "data = data.shuffle(buffer_size=1024)"
   ]
  },
  {
   "cell_type": "code",
   "execution_count": 15,
   "metadata": {},
   "outputs": [
    {
     "data": {
      "text/plain": [
       "<_ShuffleDataset element_spec=(TensorSpec(shape=(100, 100, None), dtype=tf.float32, name=None), TensorSpec(shape=(100, 100, None), dtype=tf.float32, name=None), TensorSpec(shape=(), dtype=tf.float32, name=None))>"
      ]
     },
     "execution_count": 15,
     "metadata": {},
     "output_type": "execute_result"
    }
   ],
   "source": [
    "data"
   ]
  },
  {
   "cell_type": "code",
   "execution_count": 16,
   "metadata": {},
   "outputs": [],
   "source": [
    "train_data = data.take(round(len(data)*.7))\n",
    "train_data = train_data.batch(16)\n",
    "train_data = train_data.prefetch(8)"
   ]
  },
  {
   "cell_type": "code",
   "execution_count": 17,
   "metadata": {},
   "outputs": [],
   "source": [
    "test_data = data.skip(round(len(data)*.7))\n",
    "test_data = test_data.take(round(len(data)*.3))\n",
    "test_data = test_data.batch(16)\n",
    "test_data = test_data.prefetch(8)\n"
   ]
  },
  {
   "cell_type": "markdown",
   "metadata": {},
   "source": [
    "# SIASME"
   ]
  },
  {
   "cell_type": "code",
   "execution_count": 18,
   "metadata": {},
   "outputs": [],
   "source": [
    "def embedder():\n",
    "    inp = Input(shape=(100,100,3),name='input_image')\n",
    "    #first block\n",
    "    L1 = Conv2D(64,(10,10),activation='relu')(inp)\n",
    "    L2 = MaxPooling2D(64,(2,2),padding = 'same')(L1)\n",
    "    #second block\n",
    "    L3 = Conv2D(128,(7,7),activation='relu')(L2)\n",
    "    L4 = MaxPooling2D(64,(2,2),padding = 'same')(L3)\n",
    "    #third block\n",
    "    L5 = Conv2D(128,(4,4),activation='relu')(L4)\n",
    "    L6 = MaxPooling2D(64,(2,2),padding = 'same')(L5)\n",
    "    #final block\n",
    "    L7 = Conv2D(256,(4,4),activation='relu')(L6)\n",
    "    f1 = Flatten()(L7)\n",
    "    d1 = Dense(4096,activation='sigmoid')(f1)\n",
    "\n",
    "    return Model(inputs=[inp],outputs=[d1],name='embedding')\n",
    "     "
   ]
  },
  {
   "cell_type": "code",
   "execution_count": 19,
   "metadata": {},
   "outputs": [],
   "source": [
    "embedding = embedder()"
   ]
  },
  {
   "cell_type": "markdown",
   "metadata": {},
   "source": [
    "## Building distance layer"
   ]
  },
  {
   "cell_type": "code",
   "execution_count": 20,
   "metadata": {},
   "outputs": [],
   "source": [
    "class L1Dist(Layer):\n",
    "    def __init__(self,**kwargs):\n",
    "        super().__init__()\n",
    "\n",
    "    def call(self,input_embedding,validation_embedding):\n",
    "        return tf.math.abs(input_embedding-validation_embedding)"
   ]
  },
  {
   "cell_type": "code",
   "execution_count": 21,
   "metadata": {},
   "outputs": [],
   "source": [
    "def make_siamese_model():\n",
    "\n",
    "    input_image  = Input(name = 'input_img',shape = (100,100,3))\n",
    "\n",
    "    validation_image = Input(name ='validation_img',shape=(100,100,3))\n",
    "\n",
    "    siamese_layer = L1Dist()\n",
    "    siamese_layer._name ='distance'\n",
    "    distances = siamese_layer(embedding(input_image),embedding(validation_image))\n",
    "\n",
    "    #classification layer\n",
    "    classifier = Dense(1,activation='sigmoid')(distances)\n",
    "\n",
    "    return Model(inputs=[input_image,validation_image],outputs = classifier, name = 'SiasmeNet')"
   ]
  },
  {
   "cell_type": "code",
   "execution_count": 22,
   "metadata": {},
   "outputs": [],
   "source": [
    "siamese_model = make_siamese_model()"
   ]
  },
  {
   "cell_type": "markdown",
   "metadata": {},
   "source": [
    "# Training Function"
   ]
  },
  {
   "cell_type": "code",
   "execution_count": 23,
   "metadata": {},
   "outputs": [],
   "source": [
    "binary_cross_loss = tf.losses.BinaryCrossentropy()\n"
   ]
  },
  {
   "cell_type": "code",
   "execution_count": 24,
   "metadata": {},
   "outputs": [],
   "source": [
    "opt = tf.keras.optimizers.Adam(1e-4)\n"
   ]
  },
  {
   "cell_type": "code",
   "execution_count": 25,
   "metadata": {},
   "outputs": [],
   "source": [
    "checkpoint_dir = './training_checkpoints'\n",
    "checkpoint_prefix = os.path.join(checkpoint_dir,'ckpt')\n",
    "checkpoint= tf.train.Checkpoint(opt=opt,siamese_model=siamese)"
   ]
  },
  {
   "cell_type": "markdown",
   "metadata": {},
   "source": [
    "## Train step function"
   ]
  },
  {
   "cell_type": "code",
   "execution_count": 26,
   "metadata": {},
   "outputs": [],
   "source": [
    "@tf.function\n",
    "def train_step(batch):\n",
    "    with tf.GradientTape() as tape:\n",
    "         \n",
    "         X = batch[:2]\n",
    "         y = batch[2]\n",
    "\n",
    "         yhat = siamese_model(X,training = True)\n",
    "\n",
    "         loss = binary_cross_loss(y,yhat)\n",
    "\n",
    "    # print(loss)\n",
    "\n",
    "    grad = tape.gradient(loss, siamese_model.trainable_variables)\n",
    "\n",
    "    opt.apply_gradients(zip(grad,siamese_model.trainable_variables))\n",
    "\n",
    "    return loss"
   ]
  },
  {
   "cell_type": "markdown",
   "metadata": {},
   "source": [
    "## Training Loop\n"
   ]
  },
  {
   "cell_type": "code",
   "execution_count": 27,
   "metadata": {},
   "outputs": [],
   "source": [
    "def train(data,EPOCHS):\n",
    "\n",
    "    for epoch in range(1,EPOCHS+1):\n",
    "        print('\\n Epoch {}/{}'.format(epoch,EPOCHS))\n",
    "\n",
    "        progbar = tf.keras.utils.Progbar(len(train_data))\n",
    "\n",
    "\n",
    "        for idx , batch in enumerate(train_data):\n",
    "\n",
    "            train_step(batch)\n",
    "            progbar.update(idx+1)\n",
    "        \n",
    "        if epoch%10 ==0:\n",
    "            checkpoint.save(file_prefix=checkpoint_prefix)\n",
    "\n"
   ]
  },
  {
   "cell_type": "markdown",
   "metadata": {},
   "source": [
    "## Training the model"
   ]
  },
  {
   "cell_type": "code",
   "execution_count": 28,
   "metadata": {},
   "outputs": [],
   "source": [
    "EPOCHS =50"
   ]
  },
  {
   "cell_type": "code",
   "execution_count": 29,
   "metadata": {},
   "outputs": [
    {
     "name": "stdout",
     "output_type": "stream",
     "text": [
      "\n",
      " Epoch 1/50\n"
     ]
    },
    {
     "name": "stderr",
     "output_type": "stream",
     "text": [
      "2024-02-03 17:15:07.260797: I external/local_xla/xla/stream_executor/cuda/cuda_dnn.cc:454] Loaded cuDNN version 8904\n",
      "2024-02-03 17:15:07.357645: I external/local_tsl/tsl/platform/default/subprocess.cc:304] Start cannot spawn child process: No such file or directory\n"
     ]
    },
    {
     "name": "stderr",
     "output_type": "stream",
     "text": [
      "2024-02-03 17:15:10.750473: I external/local_xla/xla/service/service.cc:168] XLA service 0x7f4f672c23c0 initialized for platform CUDA (this does not guarantee that XLA will be used). Devices:\n",
      "2024-02-03 17:15:10.750506: I external/local_xla/xla/service/service.cc:176]   StreamExecutor device (0): NVIDIA GeForce GTX 1650, Compute Capability 7.5\n",
      "2024-02-03 17:15:10.754911: I tensorflow/compiler/mlir/tensorflow/utils/dump_mlir_util.cc:269] disabling MLIR crash reproducer, set env var `MLIR_CRASH_REPRODUCER_DIRECTORY` to enable.\n",
      "WARNING: All log messages before absl::InitializeLog() is called are written to STDERR\n",
      "I0000 00:00:1706960710.847519   42080 device_compiler.h:186] Compiled cluster using XLA!  This line is logged at most once for the lifetime of the process.\n"
     ]
    },
    {
     "name": "stdout",
     "output_type": "stream",
     "text": [
      "27/27 [==============================] - 17s 395ms/step\n",
      "\n",
      " Epoch 2/50\n",
      "27/27 [==============================] - 9s 352ms/step\n",
      "\n",
      " Epoch 3/50\n",
      "27/27 [==============================] - 9s 355ms/step\n",
      "\n",
      " Epoch 4/50\n",
      "27/27 [==============================] - 9s 357ms/step\n",
      "\n",
      " Epoch 5/50\n",
      "27/27 [==============================] - 9s 353ms/step\n",
      "\n",
      " Epoch 6/50\n",
      "27/27 [==============================] - 9s 352ms/step\n",
      "\n",
      " Epoch 7/50\n",
      "27/27 [==============================] - 9s 346ms/step\n",
      "\n",
      " Epoch 8/50\n",
      "27/27 [==============================] - 9s 339ms/step\n",
      "\n",
      " Epoch 9/50\n",
      "27/27 [==============================] - 9s 335ms/step\n",
      "\n",
      " Epoch 10/50\n",
      "27/27 [==============================] - 9s 334ms/step\n"
     ]
    },
    {
     "name": "stderr",
     "output_type": "stream",
     "text": [
      "2024-02-03 17:16:45.631096: W external/local_tsl/tsl/framework/cpu_allocator_impl.cc:83] Allocation of 150994944 exceeds 10% of free system memory.\n",
      "2024-02-03 17:16:45.692130: W external/local_tsl/tsl/framework/cpu_allocator_impl.cc:83] Allocation of 150994944 exceeds 10% of free system memory.\n",
      "2024-02-03 17:16:45.768818: W external/local_tsl/tsl/framework/cpu_allocator_impl.cc:83] Allocation of 150994944 exceeds 10% of free system memory.\n"
     ]
    },
    {
     "name": "stdout",
     "output_type": "stream",
     "text": [
      "\n",
      " Epoch 11/50\n",
      "27/27 [==============================] - 9s 336ms/step\n",
      "\n",
      " Epoch 12/50\n",
      "27/27 [==============================] - 9s 330ms/step\n",
      "\n",
      " Epoch 13/50\n",
      "27/27 [==============================] - 9s 331ms/step\n",
      "\n",
      " Epoch 14/50\n",
      "27/27 [==============================] - 9s 335ms/step\n",
      "\n",
      " Epoch 15/50\n",
      "27/27 [==============================] - 9s 334ms/step\n",
      "\n",
      " Epoch 16/50\n",
      "27/27 [==============================] - 9s 326ms/step\n",
      "\n",
      " Epoch 17/50\n",
      "27/27 [==============================] - 9s 330ms/step\n",
      "\n",
      " Epoch 18/50\n",
      "27/27 [==============================] - 9s 329ms/step\n",
      "\n",
      " Epoch 19/50\n",
      "27/27 [==============================] - 9s 325ms/step\n",
      "\n",
      " Epoch 20/50\n",
      "27/27 [==============================] - 9s 325ms/step\n"
     ]
    },
    {
     "name": "stderr",
     "output_type": "stream",
     "text": [
      "2024-02-03 17:18:16.064745: W external/local_tsl/tsl/framework/cpu_allocator_impl.cc:83] Allocation of 150994944 exceeds 10% of free system memory.\n",
      "2024-02-03 17:18:16.125765: W external/local_tsl/tsl/framework/cpu_allocator_impl.cc:83] Allocation of 150994944 exceeds 10% of free system memory.\n"
     ]
    },
    {
     "name": "stdout",
     "output_type": "stream",
     "text": [
      "\n",
      " Epoch 21/50\n",
      "27/27 [==============================] - 9s 328ms/step\n",
      "\n",
      " Epoch 22/50\n",
      "27/27 [==============================] - 9s 324ms/step\n",
      "\n",
      " Epoch 23/50\n",
      "27/27 [==============================] - 9s 325ms/step\n",
      "\n",
      " Epoch 24/50\n",
      "27/27 [==============================] - 9s 324ms/step\n",
      "\n",
      " Epoch 25/50\n",
      "27/27 [==============================] - 9s 326ms/step\n",
      "\n",
      " Epoch 26/50\n",
      "27/27 [==============================] - 9s 324ms/step\n",
      "\n",
      " Epoch 27/50\n",
      "27/27 [==============================] - 8s 321ms/step\n",
      "\n",
      " Epoch 28/50\n",
      "27/27 [==============================] - 8s 322ms/step\n",
      "\n",
      " Epoch 29/50\n",
      "27/27 [==============================] - 8s 317ms/step\n",
      "\n",
      " Epoch 30/50\n",
      "27/27 [==============================] - 8s 318ms/step\n",
      "\n",
      " Epoch 31/50\n",
      "27/27 [==============================] - 8s 321ms/step\n",
      "\n",
      " Epoch 32/50\n",
      "27/27 [==============================] - 8s 321ms/step\n",
      "\n",
      " Epoch 33/50\n",
      "27/27 [==============================] - 9s 323ms/step\n",
      "\n",
      " Epoch 34/50\n",
      "27/27 [==============================] - 8s 322ms/step\n",
      "\n",
      " Epoch 35/50\n",
      "27/27 [==============================] - 8s 323ms/step\n",
      "\n",
      " Epoch 36/50\n",
      "27/27 [==============================] - 8s 322ms/step\n",
      "\n",
      " Epoch 37/50\n",
      "27/27 [==============================] - 9s 323ms/step\n",
      "\n",
      " Epoch 38/50\n",
      "27/27 [==============================] - 8s 323ms/step\n",
      "\n",
      " Epoch 39/50\n",
      "27/27 [==============================] - 8s 323ms/step\n",
      "\n",
      " Epoch 40/50\n",
      "27/27 [==============================] - 9s 324ms/step\n",
      "\n",
      " Epoch 41/50\n",
      "27/27 [==============================] - 8s 324ms/step\n",
      "\n",
      " Epoch 42/50\n",
      "27/27 [==============================] - 9s 323ms/step\n",
      "\n",
      " Epoch 43/50\n",
      "27/27 [==============================] - 9s 323ms/step\n",
      "\n",
      " Epoch 44/50\n",
      "27/27 [==============================] - 9s 323ms/step\n",
      "\n",
      " Epoch 45/50\n",
      "27/27 [==============================] - 8s 323ms/step\n",
      "\n",
      " Epoch 46/50\n",
      "27/27 [==============================] - 9s 324ms/step\n",
      "\n",
      " Epoch 47/50\n",
      "27/27 [==============================] - 9s 323ms/step\n",
      "\n",
      " Epoch 48/50\n",
      "27/27 [==============================] - 9s 323ms/step\n",
      "\n",
      " Epoch 49/50\n",
      "27/27 [==============================] - 9s 323ms/step\n",
      "\n",
      " Epoch 50/50\n",
      "27/27 [==============================] - 9s 323ms/step\n"
     ]
    }
   ],
   "source": [
    "train(train_data,EPOCHS)"
   ]
  },
  {
   "cell_type": "markdown",
   "metadata": {},
   "source": [
    "# Evaluating "
   ]
  },
  {
   "cell_type": "code",
   "execution_count": 30,
   "metadata": {},
   "outputs": [],
   "source": [
    "from keras.metrics import Precision, Recall"
   ]
  },
  {
   "cell_type": "code",
   "execution_count": 31,
   "metadata": {},
   "outputs": [],
   "source": [
    "test_input,test_val,y_true = test_data.as_numpy_iterator().next()\n"
   ]
  },
  {
   "cell_type": "markdown",
   "metadata": {},
   "source": [
    "### Making Prediction "
   ]
  },
  {
   "cell_type": "code",
   "execution_count": 32,
   "metadata": {},
   "outputs": [
    {
     "name": "stdout",
     "output_type": "stream",
     "text": [
      "1/1 [==============================] - 0s 135ms/step\n"
     ]
    },
    {
     "data": {
      "text/plain": [
       "array([[2.2651203e-07],\n",
       "       [1.0000000e+00],\n",
       "       [4.2829480e-11],\n",
       "       [1.0000000e+00],\n",
       "       [5.6340365e-08],\n",
       "       [9.9999189e-01],\n",
       "       [2.6181659e-09],\n",
       "       [9.9963009e-01],\n",
       "       [9.9999988e-01],\n",
       "       [1.0688618e-09],\n",
       "       [1.0273543e-08],\n",
       "       [5.8250225e-07],\n",
       "       [4.3340689e-05],\n",
       "       [1.0000000e+00],\n",
       "       [9.9999201e-01],\n",
       "       [1.0000000e+00]], dtype=float32)"
      ]
     },
     "execution_count": 32,
     "metadata": {},
     "output_type": "execute_result"
    }
   ],
   "source": [
    "y_hat  = siamese_model.predict([test_input,test_val])\n",
    "y_hat"
   ]
  },
  {
   "cell_type": "code",
   "execution_count": 33,
   "metadata": {},
   "outputs": [
    {
     "data": {
      "text/plain": [
       "[0, 1, 0, 1, 0, 1, 0, 1, 1, 0, 0, 0, 0, 1, 1, 1]"
      ]
     },
     "execution_count": 33,
     "metadata": {},
     "output_type": "execute_result"
    }
   ],
   "source": [
    "[1 if prediction >0.5 else 0 for prediction in y_hat] # postprocessing results"
   ]
  },
  {
   "cell_type": "code",
   "execution_count": 34,
   "metadata": {},
   "outputs": [
    {
     "data": {
      "text/plain": [
       "1.0"
      ]
     },
     "execution_count": 34,
     "metadata": {},
     "output_type": "execute_result"
    }
   ],
   "source": [
    "m = Recall()\n",
    "m.update_state(y_true,y_hat)\n",
    "m.result().numpy()"
   ]
  },
  {
   "cell_type": "code",
   "execution_count": 35,
   "metadata": {},
   "outputs": [
    {
     "data": {
      "image/png": "[encoded data removed]",
      "text/plain": [
       "<Figure size 1800x1800 with 2 Axes>"
      ]
     },
     "metadata": {},
     "output_type": "display_data"
    }
   ],
   "source": [
    "plt.figure(figsize=(18,18))\n",
    "plt.subplot(1,2,1)\n",
    "plt.imshow(test_input[3])\n",
    "plt.subplot(1,2,2)\n",
    "plt.imshow(test_val[3])\n",
    "plt.show()"
   ]
  },
  {
   "cell_type": "markdown",
   "metadata": {},
   "source": [
    "# saving model"
   ]
  },
  {
   "cell_type": "code",
   "execution_count": 36,
   "metadata": {},
   "outputs": [
    {
     "name": "stdout",
     "output_type": "stream",
     "text": [
      "WARNING:tensorflow:Compiled the loaded model, but the compiled metrics have yet to be built. `model.compile_metrics` will be empty until you train or evaluate the model.\n"
     ]
    },
    {
     "name": "stderr",
     "output_type": "stream",
     "text": [
      "/home/itachi/.local/lib/python3.10/site-packages/keras/src/engine/training.py:3103: UserWarning: You are saving your model as an HDF5 file via `model.save()`. This file format is considered legacy. We recommend using instead the native Keras format, e.g. `model.save('my_model.keras')`.\n",
      "  saving_api.save_model(\n"
     ]
    }
   ],
   "source": [
    "siamese_model.save('siamesemodel.h5')"
   ]
  },
  {
   "cell_type": "code",
   "execution_count": 37,
   "metadata": {},
   "outputs": [
    {
     "name": "stdout",
     "output_type": "stream",
     "text": [
      "WARNING:tensorflow:No training configuration found in the save file, so the model was *not* compiled. Compile it manually.\n"
     ]
    }
   ],
   "source": [
    "model = tf.keras.models.load_model('siamesemodel.h5', custom_objects ={'L1Dist':L1Dist,'BinaryCrossentropy':tf.losses.BinaryCrossentropy})"
   ]
  },
  {
   "cell_type": "code",
   "execution_count": 38,
   "metadata": {},
   "outputs": [
    {
     "name": "stdout",
     "output_type": "stream",
     "text": [
      "1/1 [==============================] - 0s 93ms/step\n"
     ]
    },
    {
     "data": {
      "text/plain": [
       "array([[2.2651203e-07],\n",
       "       [1.0000000e+00],\n",
       "       [4.2829480e-11],\n",
       "       [1.0000000e+00],\n",
       "       [5.6340365e-08],\n",
       "       [9.9999189e-01],\n",
       "       [2.6181659e-09],\n",
       "       [9.9963009e-01],\n",
       "       [9.9999988e-01],\n",
       "       [1.0688618e-09],\n",
       "       [1.0273543e-08],\n",
       "       [5.8250225e-07],\n",
       "       [4.3340689e-05],\n",
       "       [1.0000000e+00],\n",
       "       [9.9999201e-01],\n",
       "       [1.0000000e+00]], dtype=float32)"
      ]
     },
     "execution_count": 38,
     "metadata": {},
     "output_type": "execute_result"
    }
   ],
   "source": [
    "model.predict([test_input,test_val])"
   ]
  },
  {
   "cell_type": "markdown",
   "metadata": {},
   "source": [
    "# Real Time test"
   ]
  },
  {
   "cell_type": "markdown",
   "metadata": {},
   "source": [
    "### Verification Function"
   ]
  },
  {
   "cell_type": "code",
   "execution_count": 39,
   "metadata": {},
   "outputs": [],
   "source": [
    "def verify( model,detectthresh,verifthresh):\n",
    "\n",
    "    results=[]\n",
    "\n",
    "\n",
    "    for img in os.listdir('verification'):\n",
    "        input_img = preprocessing('inputimage/input_image.jpg')\n",
    "        validation_img = preprocessing(os.path.join('verification',img ))\n",
    "\n",
    "        \n",
    "        result = model.predict(list(np.expand_dims([input_img,validation_img],axis=1)))\n",
    "        print(result)\n",
    "        results.append(result)\n",
    "\n",
    "    detection = np.sum(np.array(results)>detectthresh)\n",
    "\n",
    "    verification = detection/len(os.listdir('verification'))\n",
    "\n",
    "    verified = verification>verifthresh\n",
    "\n",
    "    return results , verified\n",
    "                                       "
   ]
  },
  {
   "cell_type": "code",
   "execution_count": 40,
   "metadata": {},
   "outputs": [
    {
     "name": "stdout",
     "output_type": "stream",
     "text": [
      "1/1 [==============================] - 1s 619ms/step\n",
      "[[0.28447956]]\n",
      "1/1 [==============================] - 0s 14ms/step\n",
      "[[1.]]\n",
      "1/1 [==============================] - 0s 15ms/step\n",
      "[[0.6548714]]\n",
      "1/1 [==============================] - 0s 15ms/step\n",
      "[[0.930184]]\n",
      "1/1 [==============================] - 0s 14ms/step\n",
      "[[1.]]\n",
      "1/1 [==============================] - 0s 15ms/step\n",
      "[[1.]]\n",
      "1/1 [==============================] - 0s 15ms/step\n",
      "[[0.4780879]]\n",
      "1/1 [==============================] - 0s 15ms/step\n",
      "[[1.]]\n",
      "1/1 [==============================] - 0s 15ms/step\n",
      "[[1.]]\n",
      "1/1 [==============================] - 0s 16ms/step\n",
      "[[0.6831931]]\n",
      "1/1 [==============================] - 0s 16ms/step\n",
      "[[1.]]\n",
      "1/1 [==============================] - 0s 16ms/step\n",
      "[[0.6460762]]\n",
      "1/1 [==============================] - 0s 14ms/step\n",
      "[[1.]]\n",
      "1/1 [==============================] - 0s 13ms/step\n",
      "[[0.7111944]]\n",
      "1/1 [==============================] - 0s 14ms/step\n",
      "[[0.9854424]]\n",
      "1/1 [==============================] - 0s 18ms/step\n",
      "[[0.890203]]\n",
      "1/1 [==============================] - 0s 17ms/step\n",
      "[[0.37947682]]\n",
      "1/1 [==============================] - 0s 21ms/step\n",
      "[[0.63346535]]\n",
      "1/1 [==============================] - 0s 16ms/step\n",
      "[[1.]]\n",
      "1/1 [==============================] - 0s 22ms/step\n",
      "[[0.76180047]]\n",
      "1/1 [==============================] - 0s 18ms/step\n",
      "[[1.]]\n",
      "1/1 [==============================] - 0s 19ms/step\n",
      "[[1.]]\n",
      "1/1 [==============================] - 0s 15ms/step\n",
      "[[0.9888849]]\n",
      "1/1 [==============================] - 0s 15ms/step\n",
      "[[1.]]\n",
      "1/1 [==============================] - 0s 13ms/step\n",
      "[[0.8602454]]\n",
      "1/1 [==============================] - 0s 13ms/step\n",
      "[[1.]]\n",
      "1/1 [==============================] - 0s 14ms/step\n",
      "[[0.9293357]]\n",
      "1/1 [==============================] - 0s 15ms/step\n",
      "[[0.47507972]]\n",
      "1/1 [==============================] - 0s 19ms/step\n",
      "[[0.395108]]\n",
      "1/1 [==============================] - 0s 22ms/step\n",
      "[[0.98517936]]\n",
      "1/1 [==============================] - 0s 15ms/step\n",
      "[[0.47287145]]\n",
      "1/1 [==============================] - 0s 13ms/step\n",
      "[[1.]]\n",
      "1/1 [==============================] - 0s 13ms/step\n",
      "[[0.35835]]\n",
      "1/1 [==============================] - 0s 14ms/step\n",
      "[[0.61213154]]\n",
      "1/1 [==============================] - 0s 13ms/step\n",
      "[[0.7178914]]\n",
      "1/1 [==============================] - 0s 16ms/step\n",
      "[[0.99018097]]\n",
      "1/1 [==============================] - 0s 15ms/step\n",
      "[[0.6786319]]\n",
      "1/1 [==============================] - 0s 25ms/step\n",
      "[[0.7347441]]\n",
      "1/1 [==============================] - 0s 15ms/step\n",
      "[[0.5920029]]\n",
      "1/1 [==============================] - 0s 21ms/step\n",
      "[[0.9766184]]\n",
      "1/1 [==============================] - 0s 18ms/step\n",
      "[[0.713713]]\n",
      "1/1 [==============================] - 0s 21ms/step\n",
      "[[1.]]\n",
      "1/1 [==============================] - 0s 22ms/step\n",
      "[[0.61354464]]\n",
      "1/1 [==============================] - 0s 16ms/step\n",
      "[[0.7670816]]\n",
      "1/1 [==============================] - 0s 13ms/step\n",
      "[[0.43369326]]\n",
      "1/1 [==============================] - 0s 14ms/step\n",
      "[[1.]]\n",
      "1/1 [==============================] - 0s 14ms/step\n",
      "[[0.59214175]]\n",
      "1/1 [==============================] - 0s 14ms/step\n",
      "[[1.]]\n",
      "1/1 [==============================] - 0s 14ms/step\n",
      "[[0.8199565]]\n",
      "1/1 [==============================] - 0s 15ms/step\n",
      "[[1.]]\n"
     ]
    }
   ],
   "source": [
    "_,verifyid = verify(model,0.5,0.5)"
   ]
  },
  {
   "cell_type": "code",
   "execution_count": 41,
   "metadata": {},
   "outputs": [
    {
     "data": {
      "text/plain": [
       "True"
      ]
     },
     "execution_count": 41,
     "metadata": {},
     "output_type": "execute_result"
    }
   ],
   "source": [
    "verifyid"
   ]
  },
  {
   "cell_type": "code",
   "execution_count": 42,
   "metadata": {},
   "outputs": [
    {
     "name": "stdout",
     "output_type": "stream",
     "text": [
      "1/1 [==============================] - 0s 15ms/step\n",
      "[[0.99562824]]\n",
      "1/1 [==============================] - 0s 17ms/step\n",
      "[[1.]]\n",
      "1/1 [==============================] - 0s 15ms/step\n",
      "[[0.9987159]]\n",
      "1/1 [==============================] - 0s 15ms/step\n",
      "[[0.9639838]]\n",
      "1/1 [==============================] - 0s 15ms/step\n",
      "[[0.9999999]]\n",
      "1/1 [==============================] - 0s 15ms/step\n",
      "[[0.514726]]\n",
      "1/1 [==============================] - 0s 14ms/step\n",
      "[[0.99830735]]\n",
      "1/1 [==============================] - 0s 14ms/step\n",
      "[[0.6263847]]\n",
      "1/1 [==============================] - 0s 15ms/step\n",
      "[[1.]]\n",
      "1/1 [==============================] - 0s 14ms/step\n",
      "[[0.99231005]]\n",
      "1/1 [==============================] - 0s 15ms/step\n",
      "[[0.15906851]]\n",
      "1/1 [==============================] - 0s 15ms/step\n",
      "[[0.99862015]]\n",
      "1/1 [==============================] - 0s 15ms/step\n",
      "[[0.5464824]]\n",
      "1/1 [==============================] - 0s 14ms/step\n",
      "[[0.99572754]]\n",
      "1/1 [==============================] - 0s 15ms/step\n",
      "[[0.9232176]]\n",
      "1/1 [==============================] - 0s 15ms/step\n",
      "[[0.9848371]]\n",
      "1/1 [==============================] - 0s 13ms/step\n",
      "[[0.99767095]]\n",
      "1/1 [==============================] - 0s 13ms/step\n",
      "[[0.99958855]]\n",
      "1/1 [==============================] - 0s 15ms/step\n",
      "[[0.9999486]]\n",
      "1/1 [==============================] - 0s 15ms/step\n",
      "[[0.99585164]]\n",
      "1/1 [==============================] - 0s 14ms/step\n",
      "[[0.9999999]]\n",
      "1/1 [==============================] - 0s 15ms/step\n",
      "[[1.]]\n",
      "1/1 [==============================] - 0s 14ms/step\n",
      "[[0.6771196]]\n",
      "1/1 [==============================] - 0s 13ms/step\n",
      "[[0.90901995]]\n",
      "1/1 [==============================] - 0s 13ms/step\n",
      "[[0.98103714]]\n",
      "1/1 [==============================] - 0s 16ms/step\n",
      "[[1.]]\n",
      "1/1 [==============================] - 0s 17ms/step\n",
      "[[0.9737743]]\n",
      "1/1 [==============================] - 0s 14ms/step\n",
      "[[0.9990759]]\n",
      "1/1 [==============================] - 0s 16ms/step\n",
      "[[0.9972367]]\n",
      "1/1 [==============================] - 0s 14ms/step\n",
      "[[0.7340025]]\n",
      "1/1 [==============================] - 0s 13ms/step\n",
      "[[0.9979772]]\n",
      "1/1 [==============================] - 0s 14ms/step\n",
      "[[1.]]\n",
      "1/1 [==============================] - 0s 18ms/step\n",
      "[[0.9980691]]\n",
      "1/1 [==============================] - 0s 18ms/step\n",
      "[[0.99949455]]\n",
      "1/1 [==============================] - 0s 18ms/step\n",
      "[[0.9953951]]\n",
      "1/1 [==============================] - 0s 17ms/step\n",
      "[[0.57045376]]\n",
      "1/1 [==============================] - 0s 14ms/step\n",
      "[[0.9997012]]\n",
      "1/1 [==============================] - 0s 15ms/step\n",
      "[[0.9980994]]\n",
      "1/1 [==============================] - 0s 14ms/step\n",
      "[[0.9990189]]\n",
      "1/1 [==============================] - 0s 22ms/step\n",
      "[[0.91217774]]\n",
      "1/1 [==============================] - 0s 19ms/step\n",
      "[[0.9997147]]\n",
      "1/1 [==============================] - 0s 15ms/step\n",
      "[[1.]]\n",
      "1/1 [==============================] - 0s 16ms/step\n",
      "[[0.9995529]]\n",
      "1/1 [==============================] - 0s 14ms/step\n",
      "[[0.99725807]]\n",
      "1/1 [==============================] - 0s 13ms/step\n",
      "[[0.9988707]]\n",
      "1/1 [==============================] - 0s 15ms/step\n",
      "[[0.05572841]]\n",
      "1/1 [==============================] - 0s 17ms/step\n",
      "[[0.97950935]]\n",
      "1/1 [==============================] - 0s 14ms/step\n",
      "[[1.]]\n",
      "1/1 [==============================] - 0s 15ms/step\n",
      "[[0.9517684]]\n",
      "1/1 [==============================] - 0s 15ms/step\n",
      "[[0.0936775]]\n",
      "True\n",
      "1/1 [==============================] - 0s 14ms/step\n",
      "[[0.5767256]]\n",
      "1/1 [==============================] - 0s 15ms/step\n",
      "[[1.]]\n",
      "1/1 [==============================] - 0s 14ms/step\n",
      "[[0.823103]]\n",
      "1/1 [==============================] - 0s 15ms/step\n",
      "[[0.13813972]]\n",
      "1/1 [==============================] - 0s 14ms/step\n",
      "[[0.9999999]]\n",
      "1/1 [==============================] - 0s 15ms/step\n",
      "[[0.7350813]]\n",
      "1/1 [==============================] - 0s 20ms/step\n",
      "[[0.77917594]]\n",
      "1/1 [==============================] - 0s 17ms/step\n",
      "[[0.814327]]\n",
      "1/1 [==============================] - 0s 14ms/step\n",
      "[[1.]]\n",
      "1/1 [==============================] - 0s 16ms/step\n",
      "[[0.43570095]]\n",
      "1/1 [==============================] - 0s 13ms/step\n",
      "[[0.33102825]]\n",
      "1/1 [==============================] - 0s 14ms/step\n",
      "[[0.812379]]\n",
      "1/1 [==============================] - 0s 14ms/step\n",
      "[[0.75916463]]\n",
      "1/1 [==============================] - 0s 14ms/step\n",
      "[[0.58238214]]\n",
      "1/1 [==============================] - 0s 13ms/step\n",
      "[[0.0677039]]\n",
      "1/1 [==============================] - 0s 13ms/step\n",
      "[[0.27996638]]\n",
      "1/1 [==============================] - 0s 14ms/step\n",
      "[[0.719317]]\n",
      "1/1 [==============================] - 0s 14ms/step\n",
      "[[0.93562573]]\n",
      "1/1 [==============================] - 0s 13ms/step\n",
      "[[0.99998033]]\n",
      "1/1 [==============================] - 0s 14ms/step\n",
      "[[0.5895696]]\n",
      "1/1 [==============================] - 0s 15ms/step\n",
      "[[1.]]\n",
      "1/1 [==============================] - 0s 13ms/step\n",
      "[[1.]]\n",
      "1/1 [==============================] - 0s 14ms/step\n",
      "[[0.01312385]]\n",
      "1/1 [==============================] - 0s 14ms/step\n",
      "[[0.9631503]]\n",
      "1/1 [==============================] - 0s 14ms/step\n",
      "[[0.23640867]]\n",
      "1/1 [==============================] - 0s 13ms/step\n",
      "[[1.]]\n",
      "1/1 [==============================] - 0s 14ms/step\n",
      "[[0.18192236]]\n",
      "1/1 [==============================] - 0s 13ms/step\n",
      "[[0.8661051]]\n",
      "1/1 [==============================] - 0s 14ms/step\n",
      "[[0.68345803]]\n",
      "1/1 [==============================] - 0s 13ms/step\n",
      "[[0.01697907]]\n",
      "1/1 [==============================] - 0s 13ms/step\n",
      "[[0.74694085]]\n",
      "1/1 [==============================] - 0s 14ms/step\n",
      "[[1.]]\n",
      "1/1 [==============================] - 0s 13ms/step\n",
      "[[0.75564724]]\n",
      "1/1 [==============================] - 0s 14ms/step\n",
      "[[0.92206436]]\n",
      "1/1 [==============================] - 0s 15ms/step\n",
      "[[0.5639709]]\n",
      "1/1 [==============================] - 0s 13ms/step\n",
      "[[0.00909488]]\n",
      "1/1 [==============================] - 0s 13ms/step\n",
      "[[0.95242393]]\n",
      "1/1 [==============================] - 0s 14ms/step\n",
      "[[0.75857526]]\n",
      "1/1 [==============================] - 0s 14ms/step\n",
      "[[0.8590013]]\n",
      "1/1 [==============================] - 0s 14ms/step\n",
      "[[0.05887585]]\n",
      "1/1 [==============================] - 0s 14ms/step\n",
      "[[0.9544739]]\n",
      "1/1 [==============================] - 0s 14ms/step\n",
      "[[1.]]\n",
      "1/1 [==============================] - 0s 14ms/step\n",
      "[[0.9304355]]\n",
      "1/1 [==============================] - 0s 14ms/step\n",
      "[[0.6851825]]\n",
      "1/1 [==============================] - 0s 14ms/step\n",
      "[[0.8410632]]\n",
      "1/1 [==============================] - 0s 15ms/step\n",
      "[[0.13372797]]\n",
      "1/1 [==============================] - 0s 14ms/step\n",
      "[[0.22244139]]\n",
      "1/1 [==============================] - 0s 14ms/step\n",
      "[[1.]]\n",
      "1/1 [==============================] - 0s 15ms/step\n",
      "[[0.10567686]]\n",
      "1/1 [==============================] - 0s 14ms/step\n",
      "[[0.21283844]]\n",
      "True\n",
      "1/1 [==============================] - 0s 13ms/step\n",
      "[[1.]]\n",
      "1/1 [==============================] - 0s 14ms/step\n",
      "[[0.53925145]]\n",
      "1/1 [==============================] - 0s 15ms/step\n",
      "[[1.]]\n",
      "1/1 [==============================] - 0s 13ms/step\n",
      "[[1.]]\n",
      "1/1 [==============================] - 0s 14ms/step\n",
      "[[0.49267223]]\n",
      "1/1 [==============================] - 0s 13ms/step\n",
      "[[0.99999404]]\n",
      "1/1 [==============================] - 0s 14ms/step\n",
      "[[1.]]\n",
      "1/1 [==============================] - 0s 14ms/step\n",
      "[[0.99999344]]\n",
      "1/1 [==============================] - 0s 14ms/step\n",
      "[[0.35678038]]\n",
      "1/1 [==============================] - 0s 14ms/step\n",
      "[[1.]]\n",
      "1/1 [==============================] - 0s 14ms/step\n",
      "[[0.9999995]]\n",
      "1/1 [==============================] - 0s 13ms/step\n",
      "[[1.]]\n",
      "1/1 [==============================] - 0s 14ms/step\n",
      "[[0.9999975]]\n",
      "1/1 [==============================] - 0s 13ms/step\n",
      "[[1.]]\n",
      "1/1 [==============================] - 0s 14ms/step\n",
      "[[1.]]\n",
      "1/1 [==============================] - 0s 14ms/step\n",
      "[[1.]]\n",
      "1/1 [==============================] - 0s 15ms/step\n",
      "[[1.]]\n",
      "1/1 [==============================] - 0s 14ms/step\n",
      "[[1.]]\n",
      "1/1 [==============================] - 0s 14ms/step\n",
      "[[0.9138556]]\n",
      "1/1 [==============================] - 0s 13ms/step\n",
      "[[1.]]\n",
      "1/1 [==============================] - 0s 14ms/step\n",
      "[[0.24210565]]\n",
      "1/1 [==============================] - 0s 14ms/step\n",
      "[[0.35538793]]\n",
      "1/1 [==============================] - 0s 21ms/step\n",
      "[[1.]]\n",
      "1/1 [==============================] - 0s 16ms/step\n",
      "[[0.9999479]]\n",
      "1/1 [==============================] - 0s 14ms/step\n",
      "[[1.]]\n",
      "1/1 [==============================] - 0s 14ms/step\n",
      "[[0.76328903]]\n",
      "1/1 [==============================] - 0s 14ms/step\n",
      "[[1.]]\n",
      "1/1 [==============================] - 0s 14ms/step\n",
      "[[1.]]\n",
      "1/1 [==============================] - 0s 14ms/step\n",
      "[[1.]]\n",
      "1/1 [==============================] - 0s 13ms/step\n",
      "[[1.]]\n",
      "1/1 [==============================] - 0s 14ms/step\n",
      "[[1.]]\n",
      "1/1 [==============================] - 0s 14ms/step\n",
      "[[0.88860273]]\n",
      "1/1 [==============================] - 0s 14ms/step\n",
      "[[1.]]\n",
      "1/1 [==============================] - 0s 14ms/step\n",
      "[[1.]]\n",
      "1/1 [==============================] - 0s 15ms/step\n",
      "[[1.]]\n",
      "1/1 [==============================] - 0s 13ms/step\n",
      "[[1.]]\n",
      "1/1 [==============================] - 0s 13ms/step\n",
      "[[1.]]\n",
      "1/1 [==============================] - 0s 15ms/step\n",
      "[[1.]]\n",
      "1/1 [==============================] - 0s 14ms/step\n",
      "[[1.]]\n",
      "1/1 [==============================] - 0s 14ms/step\n",
      "[[1.]]\n",
      "1/1 [==============================] - 0s 14ms/step\n",
      "[[1.]]\n",
      "1/1 [==============================] - 0s 13ms/step\n",
      "[[0.86650956]]\n",
      "1/1 [==============================] - 0s 13ms/step\n",
      "[[1.]]\n",
      "1/1 [==============================] - 0s 14ms/step\n",
      "[[1.]]\n",
      "1/1 [==============================] - 0s 13ms/step\n",
      "[[1.]]\n",
      "1/1 [==============================] - 0s 15ms/step\n",
      "[[0.9999999]]\n",
      "1/1 [==============================] - 0s 14ms/step\n",
      "[[1.]]\n",
      "1/1 [==============================] - 0s 14ms/step\n",
      "[[0.73618966]]\n",
      "1/1 [==============================] - 0s 14ms/step\n",
      "[[1.]]\n",
      "1/1 [==============================] - 0s 14ms/step\n",
      "[[0.9999999]]\n",
      "True\n",
      "1/1 [==============================] - 0s 13ms/step\n",
      "[[0.45444492]]\n",
      "1/1 [==============================] - 0s 13ms/step\n",
      "[[1.]]\n",
      "1/1 [==============================] - 0s 13ms/step\n",
      "[[0.67318296]]\n",
      "1/1 [==============================] - 0s 14ms/step\n",
      "[[0.9659928]]\n",
      "1/1 [==============================] - 0s 14ms/step\n",
      "[[1.]]\n",
      "1/1 [==============================] - 0s 13ms/step\n",
      "[[1.]]\n",
      "1/1 [==============================] - 0s 14ms/step\n",
      "[[0.66295236]]\n",
      "1/1 [==============================] - 0s 13ms/step\n",
      "[[1.]]\n",
      "1/1 [==============================] - 0s 15ms/step\n",
      "[[1.]]\n",
      "1/1 [==============================] - 0s 15ms/step\n",
      "[[0.82169765]]\n",
      "1/1 [==============================] - 0s 13ms/step\n",
      "[[1.]]\n",
      "1/1 [==============================] - 0s 13ms/step\n",
      "[[0.67427063]]\n",
      "1/1 [==============================] - 0s 13ms/step\n",
      "[[1.]]\n",
      "1/1 [==============================] - 0s 13ms/step\n",
      "[[0.8383598]]\n",
      "1/1 [==============================] - 0s 14ms/step\n",
      "[[0.99135053]]\n",
      "1/1 [==============================] - 0s 13ms/step\n",
      "[[0.94432795]]\n",
      "1/1 [==============================] - 0s 13ms/step\n",
      "[[0.5665046]]\n",
      "1/1 [==============================] - 0s 14ms/step\n",
      "[[0.630045]]\n",
      "1/1 [==============================] - 0s 13ms/step\n",
      "[[1.]]\n",
      "1/1 [==============================] - 0s 14ms/step\n",
      "[[0.856606]]\n",
      "1/1 [==============================] - 0s 13ms/step\n",
      "[[1.]]\n",
      "1/1 [==============================] - 0s 14ms/step\n",
      "[[1.]]\n",
      "1/1 [==============================] - 0s 15ms/step\n",
      "[[0.9947666]]\n",
      "1/1 [==============================] - 0s 14ms/step\n",
      "[[1.]]\n",
      "1/1 [==============================] - 0s 13ms/step\n",
      "[[0.9292757]]\n",
      "1/1 [==============================] - 0s 14ms/step\n",
      "[[1.]]\n",
      "1/1 [==============================] - 0s 13ms/step\n",
      "[[0.96501]]\n",
      "1/1 [==============================] - 0s 13ms/step\n",
      "[[0.56146085]]\n",
      "1/1 [==============================] - 0s 13ms/step\n",
      "[[0.5817461]]\n",
      "1/1 [==============================] - 0s 13ms/step\n",
      "[[0.993009]]\n",
      "1/1 [==============================] - 0s 14ms/step\n",
      "[[0.6681424]]\n",
      "1/1 [==============================] - 0s 12ms/step\n",
      "[[1.]]\n",
      "1/1 [==============================] - 0s 14ms/step\n",
      "[[0.45029202]]\n",
      "1/1 [==============================] - 0s 13ms/step\n",
      "[[0.5477002]]\n",
      "1/1 [==============================] - 0s 13ms/step\n",
      "[[0.8428648]]\n",
      "1/1 [==============================] - 0s 14ms/step\n",
      "[[0.9953811]]\n",
      "1/1 [==============================] - 0s 14ms/step\n",
      "[[0.5070405]]\n",
      "1/1 [==============================] - 0s 13ms/step\n",
      "[[0.7404723]]\n",
      "1/1 [==============================] - 0s 42ms/step\n",
      "[[0.595366]]\n",
      "1/1 [==============================] - 0s 15ms/step\n",
      "[[0.9886984]]\n",
      "1/1 [==============================] - 0s 15ms/step\n",
      "[[0.70981807]]\n",
      "1/1 [==============================] - 0s 13ms/step\n",
      "[[1.]]\n",
      "1/1 [==============================] - 0s 13ms/step\n",
      "[[0.43369615]]\n",
      "1/1 [==============================] - 0s 13ms/step\n",
      "[[0.80466765]]\n",
      "1/1 [==============================] - 0s 13ms/step\n",
      "[[0.5495073]]\n",
      "1/1 [==============================] - 0s 14ms/step\n",
      "[[1.]]\n",
      "1/1 [==============================] - 0s 15ms/step\n",
      "[[0.75625086]]\n",
      "1/1 [==============================] - 0s 15ms/step\n",
      "[[1.]]\n",
      "1/1 [==============================] - 0s 14ms/step\n",
      "[[0.9068241]]\n",
      "1/1 [==============================] - 0s 14ms/step\n",
      "[[1.]]\n",
      "True\n",
      "1/1 [==============================] - 0s 13ms/step\n",
      "[[0.07346479]]\n",
      "1/1 [==============================] - 0s 12ms/step\n",
      "[[1.]]\n",
      "1/1 [==============================] - 0s 13ms/step\n",
      "[[0.18960507]]\n",
      "1/1 [==============================] - 0s 14ms/step\n",
      "[[0.02838882]]\n",
      "1/1 [==============================] - 0s 14ms/step\n",
      "[[1.]]\n",
      "1/1 [==============================] - 0s 13ms/step\n",
      "[[0.9999999]]\n",
      "1/1 [==============================] - 0s 13ms/step\n",
      "[[0.15236634]]\n",
      "1/1 [==============================] - 0s 13ms/step\n",
      "[[0.9999999]]\n",
      "1/1 [==============================] - 0s 13ms/step\n",
      "[[1.]]\n",
      "1/1 [==============================] - 0s 16ms/step\n",
      "[[0.05866369]]\n",
      "1/1 [==============================] - 0s 13ms/step\n",
      "[[0.9999993]]\n",
      "1/1 [==============================] - 0s 15ms/step\n",
      "[[0.20872733]]\n",
      "1/1 [==============================] - 0s 14ms/step\n",
      "[[0.9999999]]\n",
      "1/1 [==============================] - 0s 14ms/step\n",
      "[[0.1094643]]\n",
      "1/1 [==============================] - 0s 14ms/step\n",
      "[[0.03370172]]\n",
      "1/1 [==============================] - 0s 14ms/step\n",
      "[[0.05043542]]\n",
      "1/1 [==============================] - 0s 13ms/step\n",
      "[[0.11966259]]\n",
      "1/1 [==============================] - 0s 14ms/step\n",
      "[[0.4204965]]\n",
      "1/1 [==============================] - 0s 14ms/step\n",
      "[[1.]]\n",
      "1/1 [==============================] - 0s 14ms/step\n",
      "[[0.11521162]]\n",
      "1/1 [==============================] - 0s 13ms/step\n",
      "[[1.]]\n",
      "1/1 [==============================] - 0s 14ms/step\n",
      "[[1.]]\n",
      "1/1 [==============================] - 0s 14ms/step\n",
      "[[0.0162838]]\n",
      "1/1 [==============================] - 0s 13ms/step\n",
      "[[1.]]\n",
      "1/1 [==============================] - 0s 13ms/step\n",
      "[[0.0329195]]\n",
      "1/1 [==============================] - 0s 14ms/step\n",
      "[[1.]]\n",
      "1/1 [==============================] - 0s 14ms/step\n",
      "[[0.03854659]]\n",
      "1/1 [==============================] - 0s 14ms/step\n",
      "[[0.24543324]]\n",
      "1/1 [==============================] - 0s 15ms/step\n",
      "[[0.11199271]]\n",
      "1/1 [==============================] - 0s 14ms/step\n",
      "[[0.01556607]]\n",
      "1/1 [==============================] - 0s 14ms/step\n",
      "[[0.13006629]]\n",
      "1/1 [==============================] - 0s 14ms/step\n",
      "[[1.]]\n",
      "1/1 [==============================] - 0s 14ms/step\n",
      "[[0.14213942]]\n",
      "1/1 [==============================] - 0s 14ms/step\n",
      "[[0.3724887]]\n",
      "1/1 [==============================] - 0s 14ms/step\n",
      "[[0.09875071]]\n",
      "1/1 [==============================] - 0s 14ms/step\n",
      "[[0.01700569]]\n",
      "1/1 [==============================] - 0s 14ms/step\n",
      "[[0.49984115]]\n",
      "1/1 [==============================] - 0s 14ms/step\n",
      "[[0.20714584]]\n",
      "1/1 [==============================] - 0s 14ms/step\n",
      "[[0.26637226]]\n",
      "1/1 [==============================] - 0s 14ms/step\n",
      "[[0.02527898]]\n",
      "1/1 [==============================] - 0s 14ms/step\n",
      "[[0.5113918]]\n",
      "1/1 [==============================] - 0s 14ms/step\n",
      "[[1.]]\n",
      "1/1 [==============================] - 0s 15ms/step\n",
      "[[0.4016919]]\n",
      "1/1 [==============================] - 0s 17ms/step\n",
      "[[0.17605218]]\n",
      "1/1 [==============================] - 0s 14ms/step\n",
      "[[0.21075793]]\n",
      "1/1 [==============================] - 0s 15ms/step\n",
      "[[0.99999785]]\n",
      "1/1 [==============================] - 0s 13ms/step\n",
      "[[0.02714451]]\n",
      "1/1 [==============================] - 0s 13ms/step\n",
      "[[1.]]\n",
      "1/1 [==============================] - 0s 14ms/step\n",
      "[[0.01770428]]\n",
      "1/1 [==============================] - 0s 13ms/step\n",
      "[[0.9999988]]\n",
      "False\n",
      "1/1 [==============================] - 0s 14ms/step\n",
      "[[0.99992204]]\n",
      "1/1 [==============================] - 0s 14ms/step\n",
      "[[8.561876e-05]]\n",
      "1/1 [==============================] - 0s 14ms/step\n",
      "[[0.9999771]]\n",
      "1/1 [==============================] - 0s 14ms/step\n",
      "[[0.99933666]]\n",
      "1/1 [==============================] - 0s 13ms/step\n",
      "[[1.673725e-05]]\n",
      "1/1 [==============================] - 0s 13ms/step\n",
      "[[3.4476245e-06]]\n",
      "1/1 [==============================] - 0s 13ms/step\n",
      "[[0.99996984]]\n",
      "1/1 [==============================] - 0s 14ms/step\n",
      "[[3.0267001e-06]]\n",
      "1/1 [==============================] - 0s 15ms/step\n",
      "[[3.3835368e-05]]\n",
      "1/1 [==============================] - 0s 13ms/step\n",
      "[[0.9998623]]\n",
      "1/1 [==============================] - 0s 13ms/step\n",
      "[[1.2234935e-05]]\n",
      "1/1 [==============================] - 0s 14ms/step\n",
      "[[0.99997544]]\n",
      "1/1 [==============================] - 0s 15ms/step\n",
      "[[6.6232724e-06]]\n",
      "1/1 [==============================] - 0s 14ms/step\n",
      "[[0.9999237]]\n",
      "1/1 [==============================] - 0s 13ms/step\n",
      "[[0.99852425]]\n",
      "1/1 [==============================] - 0s 13ms/step\n",
      "[[0.9997265]]\n",
      "1/1 [==============================] - 0s 15ms/step\n",
      "[[0.9999585]]\n",
      "1/1 [==============================] - 0s 13ms/step\n",
      "[[0.9999927]]\n",
      "1/1 [==============================] - 0s 14ms/step\n",
      "[[9.735296e-07]]\n",
      "1/1 [==============================] - 0s 14ms/step\n",
      "[[0.999926]]\n",
      "1/1 [==============================] - 0s 13ms/step\n",
      "[[1.978778e-05]]\n",
      "1/1 [==============================] - 0s 16ms/step\n",
      "[[2.970584e-05]]\n",
      "1/1 [==============================] - 0s 14ms/step\n",
      "[[0.99159473]]\n",
      "1/1 [==============================] - 0s 18ms/step\n",
      "[[1.4472572e-06]]\n",
      "1/1 [==============================] - 0s 14ms/step\n",
      "[[0.9996567]]\n",
      "1/1 [==============================] - 0s 14ms/step\n",
      "[[0.00021514]]\n",
      "1/1 [==============================] - 0s 14ms/step\n",
      "[[0.99952173]]\n",
      "1/1 [==============================] - 0s 14ms/step\n",
      "[[0.99998355]]\n",
      "1/1 [==============================] - 0s 14ms/step\n",
      "[[0.99995077]]\n",
      "1/1 [==============================] - 0s 14ms/step\n",
      "[[0.9935998]]\n",
      "1/1 [==============================] - 0s 16ms/step\n",
      "[[0.999964]]\n",
      "1/1 [==============================] - 0s 13ms/step\n",
      "[[0.00053314]]\n",
      "1/1 [==============================] - 0s 13ms/step\n",
      "[[0.99996567]]\n",
      "1/1 [==============================] - 0s 13ms/step\n",
      "[[0.99999106]]\n",
      "1/1 [==============================] - 0s 14ms/step\n",
      "[[0.99991786]]\n",
      "1/1 [==============================] - 0s 14ms/step\n",
      "[[0.986783]]\n",
      "1/1 [==============================] - 0s 14ms/step\n",
      "[[0.99999464]]\n",
      "1/1 [==============================] - 0s 14ms/step\n",
      "[[0.99996614]]\n",
      "1/1 [==============================] - 0s 13ms/step\n",
      "[[0.9999826]]\n",
      "1/1 [==============================] - 0s 13ms/step\n",
      "[[0.998292]]\n",
      "1/1 [==============================] - 0s 14ms/step\n",
      "[[0.9999949]]\n",
      "1/1 [==============================] - 0s 38ms/step\n",
      "[[0.00043311]]\n",
      "1/1 [==============================] - 0s 16ms/step\n",
      "[[0.999992]]\n",
      "1/1 [==============================] - 0s 14ms/step\n",
      "[[0.9999511]]\n",
      "1/1 [==============================] - 0s 14ms/step\n",
      "[[0.99998]]\n",
      "1/1 [==============================] - 0s 14ms/step\n",
      "[[2.2910719e-05]]\n",
      "1/1 [==============================] - 0s 13ms/step\n",
      "[[0.9996284]]\n",
      "1/1 [==============================] - 0s 14ms/step\n",
      "[[0.00020249]]\n",
      "1/1 [==============================] - 0s 13ms/step\n",
      "[[0.99910045]]\n",
      "1/1 [==============================] - 0s 13ms/step\n",
      "[[2.3373503e-05]]\n",
      "True\n",
      "1/1 [==============================] - 0s 13ms/step\n",
      "[[0.999703]]\n",
      "1/1 [==============================] - 0s 14ms/step\n",
      "[[1.]]\n",
      "1/1 [==============================] - 0s 13ms/step\n",
      "[[0.999913]]\n",
      "1/1 [==============================] - 0s 13ms/step\n",
      "[[0.99747866]]\n",
      "1/1 [==============================] - 0s 14ms/step\n",
      "[[1.]]\n",
      "1/1 [==============================] - 0s 14ms/step\n",
      "[[0.90992296]]\n",
      "1/1 [==============================] - 0s 13ms/step\n",
      "[[0.9998853]]\n",
      "1/1 [==============================] - 0s 14ms/step\n",
      "[[0.9410614]]\n",
      "1/1 [==============================] - 0s 14ms/step\n",
      "[[1.]]\n",
      "1/1 [==============================] - 0s 13ms/step\n",
      "[[0.9994759]]\n",
      "1/1 [==============================] - 0s 14ms/step\n",
      "[[0.6430435]]\n",
      "1/1 [==============================] - 0s 13ms/step\n",
      "[[0.99990654]]\n",
      "1/1 [==============================] - 0s 15ms/step\n",
      "[[0.91984487]]\n",
      "1/1 [==============================] - 0s 14ms/step\n",
      "[[0.99970967]]\n",
      "1/1 [==============================] - 0s 14ms/step\n",
      "[[0.99440986]]\n",
      "1/1 [==============================] - 0s 13ms/step\n",
      "[[0.9989593]]\n",
      "1/1 [==============================] - 0s 14ms/step\n",
      "[[0.99984205]]\n",
      "1/1 [==============================] - 0s 13ms/step\n",
      "[[0.9999721]]\n",
      "1/1 [==============================] - 0s 13ms/step\n",
      "[[0.99999464]]\n",
      "1/1 [==============================] - 0s 14ms/step\n",
      "[[0.9997181]]\n",
      "1/1 [==============================] - 0s 13ms/step\n",
      "[[1.]]\n",
      "1/1 [==============================] - 0s 14ms/step\n",
      "[[1.]]\n",
      "1/1 [==============================] - 0s 13ms/step\n",
      "[[0.9688274]]\n",
      "1/1 [==============================] - 0s 13ms/step\n",
      "[[0.98960006]]\n",
      "1/1 [==============================] - 0s 14ms/step\n",
      "[[0.99869376]]\n",
      "1/1 [==============================] - 0s 14ms/step\n",
      "[[1.]]\n",
      "1/1 [==============================] - 0s 15ms/step\n",
      "[[0.99818146]]\n",
      "1/1 [==============================] - 0s 13ms/step\n",
      "[[0.9999374]]\n",
      "1/1 [==============================] - 0s 13ms/step\n",
      "[[0.99981254]]\n",
      "1/1 [==============================] - 0s 13ms/step\n",
      "[[0.9761189]]\n",
      "1/1 [==============================] - 0s 14ms/step\n",
      "[[0.9998628]]\n",
      "1/1 [==============================] - 0s 13ms/step\n",
      "[[1.]]\n",
      "1/1 [==============================] - 0s 13ms/step\n",
      "[[0.9998691]]\n",
      "1/1 [==============================] - 0s 14ms/step\n",
      "[[0.9999658]]\n",
      "1/1 [==============================] - 0s 13ms/step\n",
      "[[0.9996871]]\n",
      "1/1 [==============================] - 0s 13ms/step\n",
      "[[0.9521811]]\n",
      "1/1 [==============================] - 0s 13ms/step\n",
      "[[0.99997973]]\n",
      "1/1 [==============================] - 0s 18ms/step\n",
      "[[0.99987113]]\n",
      "1/1 [==============================] - 0s 16ms/step\n",
      "[[0.9999336]]\n",
      "1/1 [==============================] - 0s 15ms/step\n",
      "[[0.99353325]]\n",
      "1/1 [==============================] - 0s 13ms/step\n",
      "[[0.9999807]]\n",
      "1/1 [==============================] - 0s 13ms/step\n",
      "[[1.]]\n",
      "1/1 [==============================] - 0s 14ms/step\n",
      "[[0.9999697]]\n",
      "1/1 [==============================] - 0s 14ms/step\n",
      "[[0.999814]]\n",
      "1/1 [==============================] - 0s 13ms/step\n",
      "[[0.99992347]]\n",
      "1/1 [==============================] - 0s 13ms/step\n",
      "[[0.36035085]]\n",
      "1/1 [==============================] - 0s 14ms/step\n",
      "[[0.99858654]]\n",
      "1/1 [==============================] - 0s 15ms/step\n",
      "[[1.]]\n",
      "1/1 [==============================] - 0s 14ms/step\n",
      "[[0.9965834]]\n",
      "1/1 [==============================] - 0s 14ms/step\n",
      "[[0.49605918]]\n",
      "True\n",
      "1/1 [==============================] - 0s 13ms/step\n",
      "[[1.7310574e-08]]\n",
      "1/1 [==============================] - 0s 13ms/step\n",
      "[[1.]]\n",
      "1/1 [==============================] - 0s 14ms/step\n",
      "[[5.1289785e-08]]\n",
      "1/1 [==============================] - 0s 13ms/step\n",
      "[[5.708848e-08]]\n",
      "1/1 [==============================] - 0s 14ms/step\n",
      "[[1.]]\n",
      "1/1 [==============================] - 0s 15ms/step\n",
      "[[0.9893171]]\n",
      "1/1 [==============================] - 0s 13ms/step\n",
      "[[3.3009357e-08]]\n",
      "1/1 [==============================] - 0s 14ms/step\n",
      "[[0.9932147]]\n",
      "1/1 [==============================] - 0s 13ms/step\n",
      "[[1.]]\n",
      "1/1 [==============================] - 0s 13ms/step\n",
      "[[3.0994755e-08]]\n",
      "1/1 [==============================] - 0s 13ms/step\n",
      "[[0.94290656]]\n",
      "1/1 [==============================] - 0s 13ms/step\n",
      "[[6.4426715e-08]]\n",
      "1/1 [==============================] - 0s 13ms/step\n",
      "[[0.9905844]]\n",
      "1/1 [==============================] - 0s 14ms/step\n",
      "[[5.006803e-08]]\n",
      "1/1 [==============================] - 0s 14ms/step\n",
      "[[1.64625e-07]]\n",
      "1/1 [==============================] - 0s 14ms/step\n",
      "[[5.5514413e-08]]\n",
      "1/1 [==============================] - 0s 13ms/step\n",
      "[[2.6085322e-08]]\n",
      "1/1 [==============================] - 0s 13ms/step\n",
      "[[4.6409337e-08]]\n",
      "1/1 [==============================] - 0s 16ms/step\n",
      "[[0.9999994]]\n",
      "1/1 [==============================] - 0s 13ms/step\n",
      "[[5.706138e-08]]\n",
      "1/1 [==============================] - 0s 14ms/step\n",
      "[[1.]]\n",
      "1/1 [==============================] - 0s 14ms/step\n",
      "[[1.]]\n",
      "1/1 [==============================] - 0s 13ms/step\n",
      "[[1.607765e-07]]\n",
      "1/1 [==============================] - 0s 13ms/step\n",
      "[[0.998855]]\n",
      "1/1 [==============================] - 0s 13ms/step\n",
      "[[3.871172e-08]]\n",
      "1/1 [==============================] - 0s 13ms/step\n",
      "[[1.]]\n",
      "1/1 [==============================] - 0s 14ms/step\n",
      "[[6.4184476e-08]]\n",
      "1/1 [==============================] - 0s 13ms/step\n",
      "[[4.1696154e-08]]\n",
      "1/1 [==============================] - 0s 13ms/step\n",
      "[[2.775005e-08]]\n",
      "1/1 [==============================] - 0s 24ms/step\n",
      "[[1.3039624e-07]]\n",
      "1/1 [==============================] - 0s 15ms/step\n",
      "[[2.8229875e-08]]\n",
      "1/1 [==============================] - 0s 14ms/step\n",
      "[[1.]]\n",
      "1/1 [==============================] - 0s 13ms/step\n",
      "[[2.6874014e-08]]\n",
      "1/1 [==============================] - 0s 13ms/step\n",
      "[[5.939718e-08]]\n",
      "1/1 [==============================] - 0s 13ms/step\n",
      "[[4.6562192e-08]]\n",
      "1/1 [==============================] - 0s 14ms/step\n",
      "[[1.763689e-07]]\n",
      "1/1 [==============================] - 0s 13ms/step\n",
      "[[7.238954e-08]]\n",
      "1/1 [==============================] - 0s 13ms/step\n",
      "[[9.098022e-08]]\n",
      "1/1 [==============================] - 0s 15ms/step\n",
      "[[1.1201607e-07]]\n",
      "1/1 [==============================] - 0s 13ms/step\n",
      "[[1.097791e-07]]\n",
      "1/1 [==============================] - 0s 13ms/step\n",
      "[[5.66371e-08]]\n",
      "1/1 [==============================] - 0s 14ms/step\n",
      "[[1.]]\n",
      "1/1 [==============================] - 0s 13ms/step\n",
      "[[7.577594e-08]]\n",
      "1/1 [==============================] - 0s 13ms/step\n",
      "[[8.2545704e-08]]\n",
      "1/1 [==============================] - 0s 13ms/step\n",
      "[[3.6336413e-08]]\n",
      "1/1 [==============================] - 0s 14ms/step\n",
      "[[0.83745664]]\n",
      "1/1 [==============================] - 0s 14ms/step\n",
      "[[1.7907656e-08]]\n",
      "1/1 [==============================] - 0s 14ms/step\n",
      "[[1.]]\n",
      "1/1 [==============================] - 0s 13ms/step\n",
      "[[2.6299794e-08]]\n",
      "1/1 [==============================] - 0s 15ms/step\n",
      "[[0.900242]]\n",
      "False\n",
      "1/1 [==============================] - 0s 13ms/step\n",
      "[[0.00086617]]\n",
      "1/1 [==============================] - 0s 13ms/step\n",
      "[[0.9153783]]\n",
      "1/1 [==============================] - 0s 14ms/step\n",
      "[[0.00241832]]\n",
      "1/1 [==============================] - 0s 14ms/step\n",
      "[[0.00022394]]\n",
      "1/1 [==============================] - 0s 14ms/step\n",
      "[[0.5002377]]\n",
      "1/1 [==============================] - 0s 14ms/step\n",
      "[[2.1068481e-06]]\n",
      "1/1 [==============================] - 0s 14ms/step\n",
      "[[0.00189647]]\n",
      "1/1 [==============================] - 0s 13ms/step\n",
      "[[2.2843371e-06]]\n",
      "1/1 [==============================] - 0s 13ms/step\n",
      "[[0.77781796]]\n",
      "1/1 [==============================] - 0s 13ms/step\n",
      "[[0.00065825]]\n",
      "1/1 [==============================] - 0s 14ms/step\n",
      "[[1.5614754e-06]]\n",
      "1/1 [==============================] - 0s 14ms/step\n",
      "[[0.00287985]]\n",
      "1/1 [==============================] - 0s 15ms/step\n",
      "[[3.0716326e-06]]\n",
      "1/1 [==============================] - 0s 15ms/step\n",
      "[[0.00127605]]\n",
      "1/1 [==============================] - 0s 14ms/step\n",
      "[[0.00015427]]\n",
      "1/1 [==============================] - 0s 13ms/step\n",
      "[[0.00047712]]\n",
      "1/1 [==============================] - 0s 13ms/step\n",
      "[[0.00147058]]\n",
      "1/1 [==============================] - 0s 13ms/step\n",
      "[[0.00639044]]\n",
      "1/1 [==============================] - 0s 13ms/step\n",
      "[[0.00317642]]\n",
      "1/1 [==============================] - 0s 21ms/step\n",
      "[[0.00133927]]\n",
      "1/1 [==============================] - 0s 14ms/step\n",
      "[[0.6568223]]\n",
      "1/1 [==============================] - 0s 16ms/step\n",
      "[[0.733359]]\n",
      "1/1 [==============================] - 0s 14ms/step\n",
      "[[3.530746e-05]]\n",
      "1/1 [==============================] - 0s 14ms/step\n",
      "[[4.9808705e-06]]\n",
      "1/1 [==============================] - 0s 15ms/step\n",
      "[[0.00032475]]\n",
      "1/1 [==============================] - 0s 14ms/step\n",
      "[[0.96753603]]\n",
      "1/1 [==============================] - 0s 14ms/step\n",
      "[[0.00031753]]\n",
      "1/1 [==============================] - 0s 14ms/step\n",
      "[[0.00333177]]\n",
      "1/1 [==============================] - 0s 14ms/step\n",
      "[[0.00137793]]\n",
      "1/1 [==============================] - 0s 14ms/step\n",
      "[[4.3475393e-05]]\n",
      "1/1 [==============================] - 0s 14ms/step\n",
      "[[0.00155743]]\n",
      "1/1 [==============================] - 0s 14ms/step\n",
      "[[0.9866458]]\n",
      "1/1 [==============================] - 0s 13ms/step\n",
      "[[0.00179494]]\n",
      "1/1 [==============================] - 0s 13ms/step\n",
      "[[0.005996]]\n",
      "1/1 [==============================] - 0s 14ms/step\n",
      "[[0.00114616]]\n",
      "1/1 [==============================] - 0s 16ms/step\n",
      "[[2.908566e-05]]\n",
      "1/1 [==============================] - 0s 14ms/step\n",
      "[[0.00882591]]\n",
      "1/1 [==============================] - 0s 14ms/step\n",
      "[[0.00273486]]\n",
      "1/1 [==============================] - 0s 13ms/step\n",
      "[[0.00395893]]\n",
      "1/1 [==============================] - 0s 14ms/step\n",
      "[[0.00012429]]\n",
      "1/1 [==============================] - 0s 14ms/step\n",
      "[[0.0089871]]\n",
      "1/1 [==============================] - 0s 14ms/step\n",
      "[[0.98361075]]\n",
      "1/1 [==============================] - 0s 14ms/step\n",
      "[[0.00683518]]\n",
      "1/1 [==============================] - 0s 15ms/step\n",
      "[[0.00216319]]\n",
      "1/1 [==============================] - 0s 14ms/step\n",
      "[[0.00276265]]\n",
      "1/1 [==============================] - 0s 14ms/step\n",
      "[[1.1643014e-06]]\n",
      "1/1 [==============================] - 0s 14ms/step\n",
      "[[0.00028223]]\n",
      "1/1 [==============================] - 0s 14ms/step\n",
      "[[0.9650661]]\n",
      "1/1 [==============================] - 0s 14ms/step\n",
      "[[0.00015401]]\n",
      "1/1 [==============================] - 0s 13ms/step\n",
      "[[1.5386634e-06]]\n",
      "False\n",
      "1/1 [==============================] - 0s 12ms/step\n",
      "[[0.9973199]]\n",
      "1/1 [==============================] - 0s 14ms/step\n",
      "[[1.]]\n",
      "1/1 [==============================] - 0s 13ms/step\n",
      "[[0.9992136]]\n",
      "1/1 [==============================] - 0s 13ms/step\n",
      "[[0.9780247]]\n",
      "1/1 [==============================] - 0s 14ms/step\n",
      "[[1.]]\n",
      "1/1 [==============================] - 0s 14ms/step\n",
      "[[0.91096693]]\n",
      "1/1 [==============================] - 0s 14ms/step\n",
      "[[0.99896324]]\n",
      "1/1 [==============================] - 0s 13ms/step\n",
      "[[0.9417676]]\n",
      "1/1 [==============================] - 0s 13ms/step\n",
      "[[1.]]\n",
      "1/1 [==============================] - 0s 14ms/step\n",
      "[[0.9952832]]\n",
      "1/1 [==============================] - 0s 14ms/step\n",
      "[[0.64597696]]\n",
      "1/1 [==============================] - 0s 13ms/step\n",
      "[[0.99915504]]\n",
      "1/1 [==============================] - 0s 14ms/step\n",
      "[[0.9207839]]\n",
      "1/1 [==============================] - 0s 13ms/step\n",
      "[[0.99738413]]\n",
      "1/1 [==============================] - 0s 14ms/step\n",
      "[[0.9585156]]\n",
      "1/1 [==============================] - 0s 13ms/step\n",
      "[[0.9907336]]\n",
      "1/1 [==============================] - 0s 13ms/step\n",
      "[[0.99857306]]\n",
      "1/1 [==============================] - 0s 14ms/step\n",
      "[[0.99974805]]\n",
      "1/1 [==============================] - 0s 14ms/step\n",
      "[[0.99999464]]\n",
      "1/1 [==============================] - 0s 14ms/step\n",
      "[[0.9974605]]\n",
      "1/1 [==============================] - 0s 14ms/step\n",
      "[[1.]]\n",
      "1/1 [==============================] - 0s 14ms/step\n",
      "[[1.]]\n",
      "1/1 [==============================] - 0s 14ms/step\n",
      "[[0.8263834]]\n",
      "1/1 [==============================] - 0s 13ms/step\n",
      "[[0.9897311]]\n",
      "1/1 [==============================] - 0s 13ms/step\n",
      "[[0.9883322]]\n",
      "1/1 [==============================] - 0s 14ms/step\n",
      "[[1.]]\n",
      "1/1 [==============================] - 0s 14ms/step\n",
      "[[0.98415077]]\n",
      "1/1 [==============================] - 0s 13ms/step\n",
      "[[0.9994342]]\n",
      "1/1 [==============================] - 0s 13ms/step\n",
      "[[0.9983069]]\n",
      "1/1 [==============================] - 0s 13ms/step\n",
      "[[0.8576022]]\n",
      "1/1 [==============================] - 0s 13ms/step\n",
      "[[0.9987608]]\n",
      "1/1 [==============================] - 0s 15ms/step\n",
      "[[1.]]\n",
      "1/1 [==============================] - 0s 13ms/step\n",
      "[[0.9988172]]\n",
      "1/1 [==============================] - 0s 14ms/step\n",
      "[[0.99969053]]\n",
      "1/1 [==============================] - 0s 14ms/step\n",
      "[[0.9971796]]\n",
      "1/1 [==============================] - 0s 13ms/step\n",
      "[[0.78467065]]\n",
      "1/1 [==============================] - 0s 14ms/step\n",
      "[[0.9998171]]\n",
      "1/1 [==============================] - 0s 21ms/step\n",
      "[[0.99883705]]\n",
      "1/1 [==============================] - 0s 14ms/step\n",
      "[[0.9993993]]\n",
      "1/1 [==============================] - 0s 14ms/step\n",
      "[[0.9506423]]\n",
      "1/1 [==============================] - 0s 13ms/step\n",
      "[[0.9998254]]\n",
      "1/1 [==============================] - 0s 14ms/step\n",
      "[[1.]]\n",
      "1/1 [==============================] - 0s 13ms/step\n",
      "[[0.99972624]]\n",
      "1/1 [==============================] - 0s 14ms/step\n",
      "[[0.99832374]]\n",
      "1/1 [==============================] - 0s 14ms/step\n",
      "[[0.99930847]]\n",
      "1/1 [==============================] - 0s 14ms/step\n",
      "[[0.3628716]]\n",
      "1/1 [==============================] - 0s 14ms/step\n",
      "[[0.9873815]]\n",
      "1/1 [==============================] - 0s 15ms/step\n",
      "[[1.]]\n",
      "1/1 [==============================] - 0s 13ms/step\n",
      "[[0.9702516]]\n",
      "1/1 [==============================] - 0s 14ms/step\n",
      "[[0.49926004]]\n",
      "True\n"
     ]
    }
   ],
   "source": [
    "cap = cv2.VideoCapture(0)\n",
    "\n",
    "while cap.isOpened():\n",
    "\n",
    "    ret,frame = cap.read()\n",
    "    frame=frame[170:170+250,190:190+250]\n",
    "    \n",
    "    cv2.imshow('verification',frame)\n",
    "\n",
    "    if cv2.waitKey(1) & 0XFF == ord('v'):\n",
    "        cv2.imwrite('inputimage/input_image.jpg',frame)\n",
    "\n",
    "        results,verified = verify(model,0.5,0.5)\n",
    "        print(verified)\n",
    "        \n",
    "\n",
    "    if cv2.waitKey(1) & 0XFF == ord('q'):\n",
    "        break\n",
    "\n",
    "cap.release()\n",
    "cv2.destroyAllWindows()"
   ]
  },
  {
   "cell_type": "code",
   "execution_count": null,
   "metadata": {},
   "outputs": [],
   "source": []
  },
  {
   "cell_type": "code",
   "execution_count": null,
   "metadata": {},
   "outputs": [],
   "source": []
  }
 ],
 "metadata": {
  "colab": {
   "provenance": []
  },
  "kernelspec": {
   "display_name": "Python 3 (ipykernel)",
   "language": "python",
   "name": "python3"
  },
  "language_info": {
   "codemirror_mode": {
    "name": "ipython",
    "version": 3
   },
   "file_extension": ".py",
   "mimetype": "text/x-python",
   "name": "python",
   "nbconvert_exporter": "python",
   "pygments_lexer": "ipython3",
   "version": "3.10.12"
  }
 },
 "nbformat": 4,
 "nbformat_minor": 4
}
