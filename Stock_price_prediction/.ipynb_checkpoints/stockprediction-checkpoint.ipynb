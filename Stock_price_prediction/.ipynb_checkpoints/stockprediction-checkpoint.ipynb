{
 "cells": [
  {
   "cell_type": "code",
   "execution_count": null,
   "metadata": {},
   "outputs": [],
   "source": [
    "import requests\n",
    "import pandas as pd  \n",
    "import matplotlib.pyplot as plt\n",
    "\n",
    "\n",
    "key = key =\"497b8f719eca7942be1ea0fd731e88517396bdfb\"\n",
    "# Defineing the endpoint and parameters\n",
    "ticker = \"MSFT\"  # Fetching data for Microsoft (MSFT)\n",
    "url = f\"https://api.tiingo.com/tiingo/daily/{ticker}/prices\"\n",
    "params = {\n",
    "    'token': key,\n",
    "    'startDate': '2015-01-01',\n",
    "    'endDate': '2024-05-10'\n",
    "}\n",
    "\n",
    "response = requests.get(url,params=params)\n",
    "\n",
    "if response.status_code == 200:\n",
    "\n",
    "    df = pd.DataFrame(response.json,index=False)\n",
    "\n",
    "    df.to_csv('MFST.csv')\n",
    "\n",
    "else:\n",
    "    print(f\"Failed to fetch data : {response.status_code}\")\n"
   ]
  },
  {
   "cell_type": "code",
   "execution_count": null,
   "metadata": {},
   "outputs": [],
   "source": []
  }
 ],
 "metadata": {
  "language_info": {
   "name": "python"
  }
 },
 "nbformat": 4,
 "nbformat_minor": 2
}
