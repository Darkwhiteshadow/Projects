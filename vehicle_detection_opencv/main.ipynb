{
 "cells": [
  {
   "cell_type": "code",
   "execution_count": 2,
   "metadata": {},
   "outputs": [],
   "source": [
    "import cv2\n"
   ]
  },
  {
   "cell_type": "code",
   "execution_count": 3,
   "metadata": {},
   "outputs": [],
   "source": [
    "carcascade = cv2.CascadeClassifier('cars.xml')"
   ]
  },
  {
   "cell_type": "code",
   "execution_count": 4,
   "metadata": {},
   "outputs": [],
   "source": [
    "video  = cv2.VideoCapture('dataset/video1.avi')\n",
    "ret,frame = video.read()\n",
    "if not ret:\n",
    "    print(\"No file read\")\n",
    "\n",
    "framesize = (video.get(3),video.get(4))"
   ]
  },
  {
   "cell_type": "code",
   "execution_count": 5,
   "metadata": {},
   "outputs": [],
   "source": [
    "fourcc = cv2.VideoWriter_fourcc(*'XVID')\n",
    "# out = cv2.VideoWriter('Output.avi',fourcc,24,framesize)"
   ]
  },
  {
   "cell_type": "code",
   "execution_count": 6,
   "metadata": {},
   "outputs": [
    {
     "name": "stderr",
     "output_type": "stream",
     "text": [
      "qt.qpa.plugin: Could not find the Qt platform plugin \"wayland\" in \"/home/itachi/projects/.venv/lib/python3.12/site-packages/cv2/qt/plugins\"\n"
     ]
    }
   ],
   "source": [
    "\n",
    "\n",
    "# video = cv2.VideoCapture('dataset/video1.avi')\n",
    "\n",
    "while True:\n",
    "\n",
    "    ret, frame = video.read()\n",
    "\n",
    "    if not ret:\n",
    "        print(\"break\")\n",
    "        break\n",
    "\n",
    "    \n",
    "    gray = cv2.cvtColor(frame,cv2.COLOR_BGR2GRAY)\n",
    "\n",
    "    boxes = carcascade.detectMultiScale(gray,1.1,1)\n",
    "    for ( x,y,w,h) in boxes:\n",
    "\n",
    "        cv2.rectangle(frame,(x,y),(x+w,y+h),(255,0,255),2)\n",
    "    # out.write(frame)\n",
    "    # print(\"working\")\n",
    "    cv2.imshow('image',frame)\n",
    "    cv2.waitKey(100)\n",
    "# \n",
    "\n",
    "# cv2.destroyAllWindows()\n",
    "\n",
    "# out.release()"
   ]
  },
  {
   "cell_type": "code",
   "execution_count": null,
   "metadata": {},
   "outputs": [],
   "source": []
  }
 ],
 "metadata": {
  "kernelspec": {
   "display_name": ".venv",
   "language": "python",
   "name": "python3"
  },
  "language_info": {
   "codemirror_mode": {
    "name": "ipython",
    "version": 3
   },
   "file_extension": ".py",
   "mimetype": "text/x-python",
   "name": "python",
   "nbconvert_exporter": "python",
   "pygments_lexer": "ipython3",
   "version": "3.12.4"
  }
 },
 "nbformat": 4,
 "nbformat_minor": 2
}
